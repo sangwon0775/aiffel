{
 "cells": [
  {
   "cell_type": "code",
   "execution_count": 6,
   "metadata": {},
   "outputs": [
    {
     "data": {
      "text/plain": [
       "Date\n",
       "2019-08-13    43000.0\n",
       "2019-08-14    43700.0\n",
       "2019-08-16    43900.0\n",
       "2019-08-19    43600.0\n",
       "2019-08-20    44450.0\n",
       "Name: Close, dtype: float64"
      ]
     },
     "execution_count": 6,
     "metadata": {},
     "output_type": "execute_result"
    }
   ],
   "source": [
    "import numpy as np\n",
    "import pandas as pd\n",
    "import matplotlib.pyplot as plt\n",
    "import os\n",
    "\n",
    "dataset_filepath = os.getenv('HOME') + '/stock_prediction/data/005930.KS.csv'\n",
    "df = pd.read_csv(dataset_filepath, index_col='Date', parse_dates=True)\n",
    "ts = df['Close']\n",
    "\n",
    "ts.head()"
   ]
  },
  {
   "cell_type": "code",
   "execution_count": 7,
   "metadata": {},
   "outputs": [
    {
     "data": {
      "text/plain": [
       "Series([], Name: Close, dtype: float64)"
      ]
     },
     "execution_count": 7,
     "metadata": {},
     "output_type": "execute_result"
    }
   ],
   "source": [
    "# 결측치 처리\n",
    "ts=ts.interpolate(method='time')\n",
    "ts[ts.isna()]  # Time Series에서 결측치가 있는 부분만 Series로 출력합니다."
   ]
  },
  {
   "cell_type": "code",
   "execution_count": 8,
   "metadata": {},
   "outputs": [],
   "source": [
    "# 로그 변환 시도 \n",
    "ts_log = np.log(ts)"
   ]
  },
  {
   "cell_type": "code",
   "execution_count": 10,
   "metadata": {},
   "outputs": [
    {
     "name": "stdout",
     "output_type": "stream",
     "text": [
      "슝=3\n"
     ]
    }
   ],
   "source": [
    "def plot_rolling_statistics(timeseries, window=12):\n",
    "    \n",
    "    rolmean = timeseries.rolling(window=window).mean()  # 이동평균 시계열\n",
    "    rolstd = timeseries.rolling(window=window).std()    # 이동표준편차 시계열\n",
    "\n",
    "     # 원본시계열, 이동평균, 이동표준편차를 plot으로 시각화해 본다.\n",
    "    orig = plt.plot(timeseries, color='blue',label='Original')    \n",
    "    mean = plt.plot(rolmean, color='red', label='Rolling Mean')\n",
    "    std = plt.plot(rolstd, color='black', label = 'Rolling Std')\n",
    "    plt.legend(loc='best')\n",
    "    plt.title('Rolling Mean & Standard Deviation')\n",
    "    plt.show(block=False)\n",
    "    \n",
    "print('슝=3')"
   ]
  },
  {
   "cell_type": "code",
   "execution_count": 11,
   "metadata": {},
   "outputs": [
    {
     "data": {
      "image/png": "[encoded data removed]",
      "text/plain": [
       "<Figure size 432x288 with 1 Axes>"
      ]
     },
     "metadata": {
      "needs_background": "light"
     },
     "output_type": "display_data"
    },
    {
     "ename": "NameError",
     "evalue": "name 'augmented_dickey_fuller_test' is not defined",
     "output_type": "error",
     "traceback": [
      "\u001b[0;31m---------------------------------------------------------------------------\u001b[0m",
      "\u001b[0;31mNameError\u001b[0m                                 Traceback (most recent call last)",
      "\u001b[0;32m<ipython-input-11-40217fc02252>\u001b[0m in \u001b[0;36m<module>\u001b[0;34m\u001b[0m\n\u001b[1;32m      3\u001b[0m \u001b[0;34m\u001b[0m\u001b[0m\n\u001b[1;32m      4\u001b[0m \u001b[0;31m#정량적 Augmented Dicky-Fuller Test\u001b[0m\u001b[0;34m\u001b[0m\u001b[0;34m\u001b[0m\u001b[0;34m\u001b[0m\u001b[0m\n\u001b[0;32m----> 5\u001b[0;31m \u001b[0maugmented_dickey_fuller_test\u001b[0m\u001b[0;34m(\u001b[0m\u001b[0mts_log\u001b[0m\u001b[0;34m)\u001b[0m\u001b[0;34m\u001b[0m\u001b[0;34m\u001b[0m\u001b[0m\n\u001b[0m\u001b[1;32m      6\u001b[0m \u001b[0;34m\u001b[0m\u001b[0m\n\u001b[1;32m      7\u001b[0m \u001b[0;31m#시계열 분해 (Time Series Decomposition)\u001b[0m\u001b[0;34m\u001b[0m\u001b[0;34m\u001b[0m\u001b[0;34m\u001b[0m\u001b[0m\n",
      "\u001b[0;31mNameError\u001b[0m: name 'augmented_dickey_fuller_test' is not defined"
     ]
    }
   ],
   "source": [
    "# 정성적 그래프 분석\n",
    "plot_rolling_statistics(ts_log, window=12)\n",
    "\n",
    "#정량적 Augmented Dicky-Fuller Test\n",
    "augmented_dickey_fuller_test(ts_log)\n",
    "\n",
    "#시계열 분해 (Time Series Decomposition)\n",
    "from statsmodels.tsa.seasonal import seasonal_decompose\n",
    "decomposition = seasonal_decompose(ts_log, model='multiplicative', period = 30) \n",
    "\n",
    "trend = decomposition.trend\n",
    "seasonal = decomposition.seasonal\n",
    "residual = decomposition.resid\n",
    "\n",
    "plt.subplot(411)\n",
    "plt.plot(ts_log, label='Original')\n",
    "plt.legend(loc='best')\n",
    "plt.subplot(412)\n",
    "plt.plot(trend, label='Trend')\n",
    "plt.legend(loc='best')\n",
    "plt.subplot(413)\n",
    "plt.plot(seasonal,label='Seasonality')\n",
    "plt.legend(loc='best')\n",
    "plt.subplot(414)\n",
    "plt.plot(residual, label='Residuals')\n",
    "plt.legend(loc='best')\n",
    "plt.tight_layout()"
   ]
  },
  {
   "cell_type": "code",
   "execution_count": 5,
   "metadata": {},
   "outputs": [
    {
     "ename": "NameError",
     "evalue": "name 'residual' is not defined",
     "output_type": "error",
     "traceback": [
      "\u001b[0;31m---------------------------------------------------------------------------\u001b[0m",
      "\u001b[0;31mNameError\u001b[0m                                 Traceback (most recent call last)",
      "\u001b[0;32m<ipython-input-5-c883972a298c>\u001b[0m in \u001b[0;36m<module>\u001b[0;34m\u001b[0m\n\u001b[0;32m----> 1\u001b[0;31m \u001b[0mresidual\u001b[0m\u001b[0;34m.\u001b[0m\u001b[0mdropna\u001b[0m\u001b[0;34m(\u001b[0m\u001b[0minplace\u001b[0m\u001b[0;34m=\u001b[0m\u001b[0;32mTrue\u001b[0m\u001b[0;34m)\u001b[0m\u001b[0;34m\u001b[0m\u001b[0;34m\u001b[0m\u001b[0m\n\u001b[0m\u001b[1;32m      2\u001b[0m \u001b[0maugmented_dickey_fuller_test\u001b[0m\u001b[0;34m(\u001b[0m\u001b[0mresidual\u001b[0m\u001b[0;34m)\u001b[0m\u001b[0;34m\u001b[0m\u001b[0;34m\u001b[0m\u001b[0m\n",
      "\u001b[0;31mNameError\u001b[0m: name 'residual' is not defined"
     ]
    }
   ],
   "source": [
    "residual.dropna(inplace=True)\n",
    "augmented_dickey_fuller_test(residual)"
   ]
  },
  {
   "cell_type": "code",
   "execution_count": null,
   "metadata": {},
   "outputs": [],
   "source": [
    "train_data, test_data = ts_log[:int(len(ts_log)*0.9)], ts_log[int(len(ts_log)*0.9):]\n",
    "plt.figure(figsize=(10,6))\n",
    "plt.grid(True)\n",
    "plt.plot(ts_log, c='r', label='training dataset')  # train_data를 적용하면 그래프가 끊어져 보이므로 자연스러운 연출을 위해 ts_log를 선택\n",
    "plt.plot(test_data, c='b', label='test dataset')\n",
    "plt.legend()"
   ]
  },
  {
   "cell_type": "code",
   "execution_count": null,
   "metadata": {},
   "outputs": [],
   "source": [
    "from statsmodels.graphics.tsaplots import plot_acf, plot_pacf\n",
    "\n",
    "plot_acf(ts_log)   # ACF : Autocorrelation 그래프 그리기\n",
    "plot_pacf(ts_log)  # PACF : Partial Autocorrelation 그래프 그리기\n",
    "plt.show()"
   ]
  },
  {
   "cell_type": "code",
   "execution_count": null,
   "metadata": {},
   "outputs": [],
   "source": [
    "# 1차 차분 구하기\n",
    "diff_1 = ts_log.diff(periods=1).iloc[1:]\n",
    "diff_1.plot(title='Difference 1st')\n",
    "\n",
    "augmented_dickey_fuller_test(diff_1)\n",
    "\n",
    "# 혹시 필요한 경우 2차 차분 구하기\n",
    "diff_2 = diff_1.diff(periods=1).iloc[1:]\n",
    "diff_2.plot(title='Difference 2nd')\n",
    "\n",
    "augmented_dickey_fuller_test(diff_2)"
   ]
  },
  {
   "cell_type": "code",
   "execution_count": null,
   "metadata": {},
   "outputs": [],
   "source": [
    "from statsmodels.tsa.arima_model import ARIMA\n",
    "\n",
    "# Build Model\n",
    "model = ARIMA(train_data, order=(1, 1, 0))  \n",
    "fitted_m = model.fit(disp=-1)  \n",
    "print(fitted_m.summary())"
   ]
  },
  {
   "cell_type": "code",
   "execution_count": null,
   "metadata": {},
   "outputs": [],
   "source": [
    "# Forecast : 결과가 fc에 담깁니다. \n",
    "fc, se, conf = fitted_m.forecast(len(test_data), alpha=0.05)  # 95% conf\n",
    "\n",
    "# Make as pandas series\n",
    "fc_series = pd.Series(fc, index=test_data.index)   # 예측결과\n",
    "lower_series = pd.Series(conf[:, 0], index=test_data.index)  # 예측결과의 하한 바운드\n",
    "upper_series = pd.Series(conf[:, 1], index=test_data.index)  # 예측결과의 상한 바운드\n",
    "\n",
    "# Plot\n",
    "plt.figure(figsize=(10,5), dpi=100)\n",
    "plt.plot(train_data, label='training')\n",
    "plt.plot(test_data, c='b', label='actual price')\n",
    "plt.plot(fc_series, c='r',label='predicted price')\n",
    "plt.fill_between(lower_series.index, lower_series, upper_series, color='k', alpha=.10)\n",
    "plt.legend()\n",
    "plt.show()"
   ]
  },
  {
   "cell_type": "code",
   "execution_count": null,
   "metadata": {},
   "outputs": [],
   "source": [
    "from sklearn.metrics import mean_squared_error, mean_absolute_error\n",
    "import math\n",
    "\n",
    "mse = mean_squared_error(np.exp(test_data), np.exp(fc))\n",
    "print('MSE: ', mse)\n",
    "\n",
    "mae = mean_absolute_error(np.exp(test_data), np.exp(fc))\n",
    "print('MAE: ', mae)\n",
    "\n",
    "rmse = math.sqrt(mean_squared_error(np.exp(test_data), np.exp(fc)))\n",
    "print('RMSE: ', rmse)\n",
    "\n",
    "mape = np.mean(np.abs(np.exp(fc) - np.exp(test_data))/np.abs(np.exp(test_data)))\n",
    "print('MAPE: {:.2f}%'.format(mape*100))"
   ]
  }
 ],
 "metadata": {
  "kernelspec": {
   "display_name": "aiffel",
   "language": "python",
   "name": "aiffel"
  },
  "language_info": {
   "codemirror_mode": {
    "name": "ipython",
    "version": 3
   },
   "file_extension": ".py",
   "mimetype": "text/x-python",
   "name": "python",
   "nbconvert_exporter": "python",
   "pygments_lexer": "ipython3",
   "version": "3.8.3"
  }
 },
 "nbformat": 4,
 "nbformat_minor": 4
}
