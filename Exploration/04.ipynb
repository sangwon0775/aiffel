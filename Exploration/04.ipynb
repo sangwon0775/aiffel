{
 "cells": [
  {
   "cell_type": "code",
   "execution_count": 1,
   "metadata": {},
   "outputs": [
    {
     "name": "stdout",
     "output_type": "stream",
     "text": [
      "2.2.0\n"
     ]
    }
   ],
   "source": [
    "import warnings\n",
    "import tensorflow as tf\n",
    "import tensorflow_datasets as tfds\n",
    "import matplotlib.pyplot as plt\n",
    "print(tf.__version__)"
   ]
  },
  {
   "cell_type": "code",
   "execution_count": 2,
   "metadata": {},
   "outputs": [],
   "source": [
    "(raw_train, raw_validation, raw_test), metadata = tfds.load(\n",
    "    'tf_flowers',\n",
    "    split=['train[:80%]', 'train[80%:90%]', 'train[90%:]'],\n",
    "    with_info=True,\n",
    "    as_supervised=True,\n",
    ")"
   ]
  },
  {
   "cell_type": "code",
   "execution_count": 3,
   "metadata": {},
   "outputs": [],
   "source": [
    "IMG_SIZE = 180 # All images will be resized to 160x160\n",
    "\n",
    "def format_example(image, label):\n",
    "    image = tf.cast(image, tf.float32)  # image=float(image)같은 타입캐스팅의  텐서플로우 버전입니다.\n",
    "    image = (image/127.5) - 1\n",
    "    image = tf.image.resize(image, (IMG_SIZE, IMG_SIZE))\n",
    "    return image, label"
   ]
  },
  {
   "cell_type": "code",
   "execution_count": 25,
   "metadata": {},
   "outputs": [
    {
     "name": "stdout",
     "output_type": "stream",
     "text": [
      "0\n"
     ]
    }
   ],
   "source": [
    "for x,i in enumerate(raw_one):\n",
    "    print(x)"
   ]
  },
  {
   "cell_type": "code",
   "execution_count": 4,
   "metadata": {},
   "outputs": [],
   "source": [
    "train = raw_train.map(format_example)\n",
    "validation = raw_validation.map(format_example)\n",
    "test = raw_test.map(format_example)"
   ]
  },
  {
   "cell_type": "code",
   "execution_count": 5,
   "metadata": {},
   "outputs": [],
   "source": [
    "BATCH_SIZE = 32\n",
    "SHUFFLE_BUFFER_SIZE = 1000"
   ]
  },
  {
   "cell_type": "code",
   "execution_count": 6,
   "metadata": {},
   "outputs": [],
   "source": [
    "train_batches = train.shuffle(SHUFFLE_BUFFER_SIZE).batch(BATCH_SIZE)\n",
    "validation_batches = validation.batch(BATCH_SIZE)\n",
    "test_batches = test.batch(BATCH_SIZE)"
   ]
  },
  {
   "cell_type": "code",
   "execution_count": 7,
   "metadata": {},
   "outputs": [],
   "source": [
    "IMG_SHAPE = (IMG_SIZE, IMG_SIZE, 3)\n",
    "\n",
    "# Create the base model from the pre-trained model VGG16\n",
    "base_model = tf.keras.applications.VGG16(input_shape=IMG_SHAPE,\n",
    "                                         include_top=False,\n",
    "                                         weights='imagenet')"
   ]
  },
  {
   "cell_type": "code",
   "execution_count": 8,
   "metadata": {},
   "outputs": [],
   "source": [
    "global_average_layer = tf.keras.layers.GlobalAveragePooling2D()"
   ]
  },
  {
   "cell_type": "code",
   "execution_count": 9,
   "metadata": {},
   "outputs": [],
   "source": [
    "dense_layer = tf.keras.layers.Dense(512, activation='relu')\n",
    "prediction_layer = tf.keras.layers.Dense(5, activation='softmax')"
   ]
  },
  {
   "cell_type": "code",
   "execution_count": 10,
   "metadata": {},
   "outputs": [],
   "source": [
    "model = tf.keras.Sequential([\n",
    "  base_model,\n",
    "  global_average_layer,\n",
    "  dense_layer,\n",
    "  prediction_layer\n",
    "])"
   ]
  },
  {
   "cell_type": "code",
   "execution_count": 11,
   "metadata": {},
   "outputs": [
    {
     "name": "stdout",
     "output_type": "stream",
     "text": [
      "Model: \"sequential\"\n",
      "_________________________________________________________________\n",
      "Layer (type)                 Output Shape              Param #   \n",
      "=================================================================\n",
      "vgg16 (Model)                (None, 5, 5, 512)         14714688  \n",
      "_________________________________________________________________\n",
      "global_average_pooling2d (Gl (None, 512)               0         \n",
      "_________________________________________________________________\n",
      "dense (Dense)                (None, 512)               262656    \n",
      "_________________________________________________________________\n",
      "dense_1 (Dense)              (None, 5)                 2565      \n",
      "=================================================================\n",
      "Total params: 14,979,909\n",
      "Trainable params: 14,979,909\n",
      "Non-trainable params: 0\n",
      "_________________________________________________________________\n"
     ]
    }
   ],
   "source": [
    "model.summary()"
   ]
  },
  {
   "cell_type": "code",
   "execution_count": 12,
   "metadata": {},
   "outputs": [],
   "source": [
    "base_learning_rate = 0.00001\n",
    "model.compile(optimizer=tf.keras.optimizers.RMSprop(lr=base_learning_rate),\n",
    "              loss=tf.keras.losses.sparse_categorical_crossentropy,\n",
    "              metrics=['accuracy'])\n"
   ]
  },
  {
   "cell_type": "code",
   "execution_count": 13,
   "metadata": {
    "scrolled": true
   },
   "outputs": [
    {
     "name": "stdout",
     "output_type": "stream",
     "text": [
      "Epoch 1/20\n",
      "92/92 [==============================] - 93s 1s/step - loss: 0.7915 - accuracy: 0.7142 - val_loss: 0.5031 - val_accuracy: 0.8093\n",
      "Epoch 2/20\n",
      "92/92 [==============================] - 22s 242ms/step - loss: 0.4114 - accuracy: 0.8563 - val_loss: 0.4092 - val_accuracy: 0.8556\n",
      "Epoch 3/20\n",
      "92/92 [==============================] - 22s 239ms/step - loss: 0.3006 - accuracy: 0.8958 - val_loss: 0.4689 - val_accuracy: 0.8338\n",
      "Epoch 4/20\n",
      "92/92 [==============================] - 23s 253ms/step - loss: 0.2360 - accuracy: 0.9131 - val_loss: 0.3454 - val_accuracy: 0.8719\n",
      "Epoch 5/20\n",
      "92/92 [==============================] - 22s 240ms/step - loss: 0.1765 - accuracy: 0.9407 - val_loss: 0.3649 - val_accuracy: 0.8828\n",
      "Epoch 6/20\n",
      "92/92 [==============================] - 25s 268ms/step - loss: 0.1253 - accuracy: 0.9578 - val_loss: 0.4041 - val_accuracy: 0.8747\n",
      "Epoch 7/20\n",
      "92/92 [==============================] - 23s 247ms/step - loss: 0.1025 - accuracy: 0.9659 - val_loss: 0.3965 - val_accuracy: 0.8801\n",
      "Epoch 8/20\n",
      "92/92 [==============================] - 22s 244ms/step - loss: 0.0828 - accuracy: 0.9765 - val_loss: 0.3262 - val_accuracy: 0.9046\n",
      "Epoch 9/20\n",
      "92/92 [==============================] - 22s 241ms/step - loss: 0.0549 - accuracy: 0.9840 - val_loss: 0.3949 - val_accuracy: 0.9019\n",
      "Epoch 10/20\n",
      "92/92 [==============================] - 24s 257ms/step - loss: 0.0443 - accuracy: 0.9877 - val_loss: 0.3338 - val_accuracy: 0.8992\n",
      "Epoch 11/20\n",
      "92/92 [==============================] - 23s 248ms/step - loss: 0.0532 - accuracy: 0.9884 - val_loss: 0.3083 - val_accuracy: 0.9046\n",
      "Epoch 12/20\n",
      "92/92 [==============================] - 22s 240ms/step - loss: 0.0309 - accuracy: 0.9928 - val_loss: 0.3755 - val_accuracy: 0.9046\n",
      "Epoch 13/20\n",
      "92/92 [==============================] - 24s 259ms/step - loss: 0.0291 - accuracy: 0.9928 - val_loss: 0.3668 - val_accuracy: 0.9128\n",
      "Epoch 14/20\n",
      "92/92 [==============================] - 23s 252ms/step - loss: 0.0196 - accuracy: 0.9949 - val_loss: 0.4270 - val_accuracy: 0.9019\n",
      "Epoch 15/20\n",
      "92/92 [==============================] - 24s 259ms/step - loss: 0.0360 - accuracy: 0.9925 - val_loss: 0.3550 - val_accuracy: 0.9128\n",
      "Epoch 16/20\n",
      "92/92 [==============================] - 23s 255ms/step - loss: 0.0204 - accuracy: 0.9952 - val_loss: 0.4063 - val_accuracy: 0.9101\n",
      "Epoch 17/20\n",
      "92/92 [==============================] - 23s 248ms/step - loss: 0.0195 - accuracy: 0.9942 - val_loss: 0.5153 - val_accuracy: 0.8937\n",
      "Epoch 18/20\n",
      "92/92 [==============================] - 23s 247ms/step - loss: 0.0254 - accuracy: 0.9932 - val_loss: 0.3583 - val_accuracy: 0.9101\n",
      "Epoch 19/20\n",
      "92/92 [==============================] - 22s 240ms/step - loss: 0.0156 - accuracy: 0.9963 - val_loss: 0.4112 - val_accuracy: 0.9074\n",
      "Epoch 20/20\n",
      "92/92 [==============================] - 22s 241ms/step - loss: 0.0120 - accuracy: 0.9956 - val_loss: 0.3831 - val_accuracy: 0.9101\n"
     ]
    }
   ],
   "source": [
    "EPOCHS = 20   # 이번에는 이전보다 훨씬 빠르게 수렴되므로 5Epoch이면 충분합니다.\n",
    "\n",
    "history = model.fit(train_batches,\n",
    "                    epochs=EPOCHS,\n",
    "                    validation_data=validation_batches)"
   ]
  },
  {
   "cell_type": "code",
   "execution_count": 14,
   "metadata": {},
   "outputs": [
    {
     "data": {
      "image/png": "[encoded data removed]",
      "text/plain": [
       "<Figure size 1152x576 with 2 Axes>"
      ]
     },
     "metadata": {
      "needs_background": "light"
     },
     "output_type": "display_data"
    }
   ],
   "source": [
    "acc = history.history['accuracy']\n",
    "val_acc = history.history['val_accuracy']\n",
    "\n",
    "loss=history.history['loss']\n",
    "val_loss=history.history['val_loss']\n",
    "\n",
    "epochs_range = range(EPOCHS)\n",
    "\n",
    "plt.figure(figsize=(16, 8))\n",
    "plt.subplot(1, 2, 1)\n",
    "plt.plot(epochs_range, acc, label='Training Accuracy')\n",
    "plt.plot(epochs_range, val_acc, label='Validation Accuracy')\n",
    "plt.legend(loc='lower right')\n",
    "plt.title('Training and Validation Accuracy')\n",
    "\n",
    "plt.subplot(1, 2, 2)\n",
    "plt.plot(epochs_range, loss, label='Training Loss')\n",
    "plt.plot(epochs_range, val_loss, label='Validation Loss')\n",
    "plt.legend(loc='upper right')\n",
    "plt.title('Training and Validation Loss')\n",
    "plt.show()"
   ]
  },
  {
   "cell_type": "code",
   "execution_count": 15,
   "metadata": {},
   "outputs": [
    {
     "name": "stdout",
     "output_type": "stream",
     "text": [
      "checkpoint 파일 생성 OK!!\n"
     ]
    }
   ],
   "source": [
    "import os\n",
    "\n",
    "checkpoint_dir = os.getenv(\"HOME\") + \"/tf_flowers/checkpoint\"\n",
    "checkpoint_file_path = os.path.join(checkpoint_dir, 'checkpoint')\n",
    "\n",
    "if not os.path.exists('checkpoint_dir'):\n",
    "    os.mkdir('checkpoint_dir')\n",
    "    \n",
    "model.save_weights(checkpoint_file_path)     # checkpoint 파일 생성\n",
    "\n",
    "if os.path.exists(checkpoint_file_path):\n",
    "  print('checkpoint 파일 생성 OK!!')"
   ]
  },
  {
   "cell_type": "code",
   "execution_count": 16,
   "metadata": {},
   "outputs": [
    {
     "name": "stdout",
     "output_type": "stream",
     "text": [
      "10/10 [==============================] - 1s 67ms/step - loss: 0.3570 - accuracy: 0.9156\n",
      "initial loss: 0.36\n",
      "initial accuracy: 0.92\n"
     ]
    }
   ],
   "source": [
    "test_steps = 10\n",
    "loss0, accuracy0 = model.evaluate(test_batches, steps = test_steps)\n",
    "\n",
    "print(\"initial loss: {:.2f}\".format(loss0))\n",
    "print(\"initial accuracy: {:.2f}\".format(accuracy0))"
   ]
  },
  {
   "cell_type": "code",
   "execution_count": null,
   "metadata": {},
   "outputs": [],
   "source": []
  }
 ],
 "metadata": {
  "kernelspec": {
   "display_name": "aiffel",
   "language": "python",
   "name": "aiffel"
  },
  "language_info": {
   "codemirror_mode": {
    "name": "ipython",
    "version": 3
   },
   "file_extension": ".py",
   "mimetype": "text/x-python",
   "name": "python",
   "nbconvert_exporter": "python",
   "pygments_lexer": "ipython3",
   "version": "3.8.3"
  }
 },
 "nbformat": 4,
 "nbformat_minor": 4
}
