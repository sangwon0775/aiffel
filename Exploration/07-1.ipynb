{
 "cells": [
  {
   "cell_type": "code",
   "execution_count": 1,
   "metadata": {},
   "outputs": [],
   "source": [
    "import pandas as pd\n",
    "import os"
   ]
  },
  {
   "cell_type": "code",
   "execution_count": 2,
   "metadata": {},
   "outputs": [
    {
     "data": {
      "text/html": [
       "<div>\n",
       "<style scoped>\n",
       "    .dataframe tbody tr th:only-of-type {\n",
       "        vertical-align: middle;\n",
       "    }\n",
       "\n",
       "    .dataframe tbody tr th {\n",
       "        vertical-align: top;\n",
       "    }\n",
       "\n",
       "    .dataframe thead th {\n",
       "        text-align: right;\n",
       "    }\n",
       "</style>\n",
       "<table border=\"1\" class=\"dataframe\">\n",
       "  <thead>\n",
       "    <tr style=\"text-align: right;\">\n",
       "      <th></th>\n",
       "      <th>user_id</th>\n",
       "      <th>artist_MBID</th>\n",
       "      <th>artist</th>\n",
       "      <th>play</th>\n",
       "    </tr>\n",
       "  </thead>\n",
       "  <tbody>\n",
       "    <tr>\n",
       "      <th>0</th>\n",
       "      <td>00000c289a1829a808ac09c00daf10bc3c4e223b</td>\n",
       "      <td>3bd73256-3905-4f3a-97e2-8b341527f805</td>\n",
       "      <td>betty blowtorch</td>\n",
       "      <td>2137</td>\n",
       "    </tr>\n",
       "    <tr>\n",
       "      <th>1</th>\n",
       "      <td>00000c289a1829a808ac09c00daf10bc3c4e223b</td>\n",
       "      <td>f2fb0ff0-5679-42ec-a55c-15109ce6e320</td>\n",
       "      <td>die Ärzte</td>\n",
       "      <td>1099</td>\n",
       "    </tr>\n",
       "    <tr>\n",
       "      <th>2</th>\n",
       "      <td>00000c289a1829a808ac09c00daf10bc3c4e223b</td>\n",
       "      <td>b3ae82c2-e60b-4551-a76d-6620f1b456aa</td>\n",
       "      <td>melissa etheridge</td>\n",
       "      <td>897</td>\n",
       "    </tr>\n",
       "    <tr>\n",
       "      <th>3</th>\n",
       "      <td>00000c289a1829a808ac09c00daf10bc3c4e223b</td>\n",
       "      <td>3d6bbeb7-f90e-4d10-b440-e153c0d10b53</td>\n",
       "      <td>elvenking</td>\n",
       "      <td>717</td>\n",
       "    </tr>\n",
       "    <tr>\n",
       "      <th>4</th>\n",
       "      <td>00000c289a1829a808ac09c00daf10bc3c4e223b</td>\n",
       "      <td>bbd2ffd7-17f4-4506-8572-c1ea58c3f9a8</td>\n",
       "      <td>juliette &amp; the licks</td>\n",
       "      <td>706</td>\n",
       "    </tr>\n",
       "    <tr>\n",
       "      <th>5</th>\n",
       "      <td>00000c289a1829a808ac09c00daf10bc3c4e223b</td>\n",
       "      <td>8bfac288-ccc5-448d-9573-c33ea2aa5c30</td>\n",
       "      <td>red hot chili peppers</td>\n",
       "      <td>691</td>\n",
       "    </tr>\n",
       "    <tr>\n",
       "      <th>6</th>\n",
       "      <td>00000c289a1829a808ac09c00daf10bc3c4e223b</td>\n",
       "      <td>6531c8b1-76ea-4141-b270-eb1ac5b41375</td>\n",
       "      <td>magica</td>\n",
       "      <td>545</td>\n",
       "    </tr>\n",
       "    <tr>\n",
       "      <th>7</th>\n",
       "      <td>00000c289a1829a808ac09c00daf10bc3c4e223b</td>\n",
       "      <td>21f3573f-10cf-44b3-aeaa-26cccd8448b5</td>\n",
       "      <td>the black dahlia murder</td>\n",
       "      <td>507</td>\n",
       "    </tr>\n",
       "    <tr>\n",
       "      <th>8</th>\n",
       "      <td>00000c289a1829a808ac09c00daf10bc3c4e223b</td>\n",
       "      <td>c5db90c4-580d-4f33-b364-fbaa5a3a58b5</td>\n",
       "      <td>the murmurs</td>\n",
       "      <td>424</td>\n",
       "    </tr>\n",
       "    <tr>\n",
       "      <th>9</th>\n",
       "      <td>00000c289a1829a808ac09c00daf10bc3c4e223b</td>\n",
       "      <td>0639533a-0402-40ba-b6e0-18b067198b73</td>\n",
       "      <td>lunachicks</td>\n",
       "      <td>403</td>\n",
       "    </tr>\n",
       "  </tbody>\n",
       "</table>\n",
       "</div>"
      ],
      "text/plain": [
       "                                    user_id  \\\n",
       "0  00000c289a1829a808ac09c00daf10bc3c4e223b   \n",
       "1  00000c289a1829a808ac09c00daf10bc3c4e223b   \n",
       "2  00000c289a1829a808ac09c00daf10bc3c4e223b   \n",
       "3  00000c289a1829a808ac09c00daf10bc3c4e223b   \n",
       "4  00000c289a1829a808ac09c00daf10bc3c4e223b   \n",
       "5  00000c289a1829a808ac09c00daf10bc3c4e223b   \n",
       "6  00000c289a1829a808ac09c00daf10bc3c4e223b   \n",
       "7  00000c289a1829a808ac09c00daf10bc3c4e223b   \n",
       "8  00000c289a1829a808ac09c00daf10bc3c4e223b   \n",
       "9  00000c289a1829a808ac09c00daf10bc3c4e223b   \n",
       "\n",
       "                            artist_MBID                   artist  play  \n",
       "0  3bd73256-3905-4f3a-97e2-8b341527f805          betty blowtorch  2137  \n",
       "1  f2fb0ff0-5679-42ec-a55c-15109ce6e320                die Ärzte  1099  \n",
       "2  b3ae82c2-e60b-4551-a76d-6620f1b456aa        melissa etheridge   897  \n",
       "3  3d6bbeb7-f90e-4d10-b440-e153c0d10b53                elvenking   717  \n",
       "4  bbd2ffd7-17f4-4506-8572-c1ea58c3f9a8     juliette & the licks   706  \n",
       "5  8bfac288-ccc5-448d-9573-c33ea2aa5c30    red hot chili peppers   691  \n",
       "6  6531c8b1-76ea-4141-b270-eb1ac5b41375                   magica   545  \n",
       "7  21f3573f-10cf-44b3-aeaa-26cccd8448b5  the black dahlia murder   507  \n",
       "8  c5db90c4-580d-4f33-b364-fbaa5a3a58b5              the murmurs   424  \n",
       "9  0639533a-0402-40ba-b6e0-18b067198b73               lunachicks   403  "
      ]
     },
     "execution_count": 2,
     "metadata": {},
     "output_type": "execute_result"
    }
   ],
   "source": [
    "\n",
    "\n",
    "fname = os.getenv('HOME') + '/aiffel/recommendata_iu/data/lastfm-dataset-360K/usersha1-artmbid-artname-plays.tsv'\n",
    "col_names = ['user_id', 'artist_MBID', 'artist', 'play']   # 임의로 지정한 컬럼명\n",
    "data = pd.read_csv(fname, sep='\\t', names= col_names)      # sep='\\t'로 주어야 tsv를 열 수 있습니다.  \n",
    "data.head(10)"
   ]
  },
  {
   "cell_type": "code",
   "execution_count": 3,
   "metadata": {},
   "outputs": [
    {
     "data": {
      "text/html": [
       "<div>\n",
       "<style scoped>\n",
       "    .dataframe tbody tr th:only-of-type {\n",
       "        vertical-align: middle;\n",
       "    }\n",
       "\n",
       "    .dataframe tbody tr th {\n",
       "        vertical-align: top;\n",
       "    }\n",
       "\n",
       "    .dataframe thead th {\n",
       "        text-align: right;\n",
       "    }\n",
       "</style>\n",
       "<table border=\"1\" class=\"dataframe\">\n",
       "  <thead>\n",
       "    <tr style=\"text-align: right;\">\n",
       "      <th></th>\n",
       "      <th>user_id</th>\n",
       "      <th>artist</th>\n",
       "      <th>play</th>\n",
       "    </tr>\n",
       "  </thead>\n",
       "  <tbody>\n",
       "    <tr>\n",
       "      <th>0</th>\n",
       "      <td>00000c289a1829a808ac09c00daf10bc3c4e223b</td>\n",
       "      <td>betty blowtorch</td>\n",
       "      <td>2137</td>\n",
       "    </tr>\n",
       "    <tr>\n",
       "      <th>1</th>\n",
       "      <td>00000c289a1829a808ac09c00daf10bc3c4e223b</td>\n",
       "      <td>die Ärzte</td>\n",
       "      <td>1099</td>\n",
       "    </tr>\n",
       "    <tr>\n",
       "      <th>2</th>\n",
       "      <td>00000c289a1829a808ac09c00daf10bc3c4e223b</td>\n",
       "      <td>melissa etheridge</td>\n",
       "      <td>897</td>\n",
       "    </tr>\n",
       "    <tr>\n",
       "      <th>3</th>\n",
       "      <td>00000c289a1829a808ac09c00daf10bc3c4e223b</td>\n",
       "      <td>elvenking</td>\n",
       "      <td>717</td>\n",
       "    </tr>\n",
       "    <tr>\n",
       "      <th>4</th>\n",
       "      <td>00000c289a1829a808ac09c00daf10bc3c4e223b</td>\n",
       "      <td>juliette &amp; the licks</td>\n",
       "      <td>706</td>\n",
       "    </tr>\n",
       "    <tr>\n",
       "      <th>5</th>\n",
       "      <td>00000c289a1829a808ac09c00daf10bc3c4e223b</td>\n",
       "      <td>red hot chili peppers</td>\n",
       "      <td>691</td>\n",
       "    </tr>\n",
       "    <tr>\n",
       "      <th>6</th>\n",
       "      <td>00000c289a1829a808ac09c00daf10bc3c4e223b</td>\n",
       "      <td>magica</td>\n",
       "      <td>545</td>\n",
       "    </tr>\n",
       "    <tr>\n",
       "      <th>7</th>\n",
       "      <td>00000c289a1829a808ac09c00daf10bc3c4e223b</td>\n",
       "      <td>the black dahlia murder</td>\n",
       "      <td>507</td>\n",
       "    </tr>\n",
       "    <tr>\n",
       "      <th>8</th>\n",
       "      <td>00000c289a1829a808ac09c00daf10bc3c4e223b</td>\n",
       "      <td>the murmurs</td>\n",
       "      <td>424</td>\n",
       "    </tr>\n",
       "    <tr>\n",
       "      <th>9</th>\n",
       "      <td>00000c289a1829a808ac09c00daf10bc3c4e223b</td>\n",
       "      <td>lunachicks</td>\n",
       "      <td>403</td>\n",
       "    </tr>\n",
       "  </tbody>\n",
       "</table>\n",
       "</div>"
      ],
      "text/plain": [
       "                                    user_id                   artist  play\n",
       "0  00000c289a1829a808ac09c00daf10bc3c4e223b          betty blowtorch  2137\n",
       "1  00000c289a1829a808ac09c00daf10bc3c4e223b                die Ärzte  1099\n",
       "2  00000c289a1829a808ac09c00daf10bc3c4e223b        melissa etheridge   897\n",
       "3  00000c289a1829a808ac09c00daf10bc3c4e223b                elvenking   717\n",
       "4  00000c289a1829a808ac09c00daf10bc3c4e223b     juliette & the licks   706\n",
       "5  00000c289a1829a808ac09c00daf10bc3c4e223b    red hot chili peppers   691\n",
       "6  00000c289a1829a808ac09c00daf10bc3c4e223b                   magica   545\n",
       "7  00000c289a1829a808ac09c00daf10bc3c4e223b  the black dahlia murder   507\n",
       "8  00000c289a1829a808ac09c00daf10bc3c4e223b              the murmurs   424\n",
       "9  00000c289a1829a808ac09c00daf10bc3c4e223b               lunachicks   403"
      ]
     },
     "execution_count": 3,
     "metadata": {},
     "output_type": "execute_result"
    }
   ],
   "source": [
    "# 사용하는 컬럼만 남겨줍니다.\n",
    "using_cols = ['user_id', 'artist', 'play']\n",
    "data = data[using_cols]\n",
    "data.head(10)"
   ]
  },
  {
   "cell_type": "code",
   "execution_count": 4,
   "metadata": {
    "scrolled": true
   },
   "outputs": [
    {
     "data": {
      "text/html": [
       "<div>\n",
       "<style scoped>\n",
       "    .dataframe tbody tr th:only-of-type {\n",
       "        vertical-align: middle;\n",
       "    }\n",
       "\n",
       "    .dataframe tbody tr th {\n",
       "        vertical-align: top;\n",
       "    }\n",
       "\n",
       "    .dataframe thead th {\n",
       "        text-align: right;\n",
       "    }\n",
       "</style>\n",
       "<table border=\"1\" class=\"dataframe\">\n",
       "  <thead>\n",
       "    <tr style=\"text-align: right;\">\n",
       "      <th></th>\n",
       "      <th>user_id</th>\n",
       "      <th>artist</th>\n",
       "      <th>play</th>\n",
       "    </tr>\n",
       "  </thead>\n",
       "  <tbody>\n",
       "    <tr>\n",
       "      <th>0</th>\n",
       "      <td>00000c289a1829a808ac09c00daf10bc3c4e223b</td>\n",
       "      <td>betty blowtorch</td>\n",
       "      <td>2137</td>\n",
       "    </tr>\n",
       "    <tr>\n",
       "      <th>1</th>\n",
       "      <td>00000c289a1829a808ac09c00daf10bc3c4e223b</td>\n",
       "      <td>die ärzte</td>\n",
       "      <td>1099</td>\n",
       "    </tr>\n",
       "    <tr>\n",
       "      <th>2</th>\n",
       "      <td>00000c289a1829a808ac09c00daf10bc3c4e223b</td>\n",
       "      <td>melissa etheridge</td>\n",
       "      <td>897</td>\n",
       "    </tr>\n",
       "    <tr>\n",
       "      <th>3</th>\n",
       "      <td>00000c289a1829a808ac09c00daf10bc3c4e223b</td>\n",
       "      <td>elvenking</td>\n",
       "      <td>717</td>\n",
       "    </tr>\n",
       "    <tr>\n",
       "      <th>4</th>\n",
       "      <td>00000c289a1829a808ac09c00daf10bc3c4e223b</td>\n",
       "      <td>juliette &amp; the licks</td>\n",
       "      <td>706</td>\n",
       "    </tr>\n",
       "    <tr>\n",
       "      <th>5</th>\n",
       "      <td>00000c289a1829a808ac09c00daf10bc3c4e223b</td>\n",
       "      <td>red hot chili peppers</td>\n",
       "      <td>691</td>\n",
       "    </tr>\n",
       "    <tr>\n",
       "      <th>6</th>\n",
       "      <td>00000c289a1829a808ac09c00daf10bc3c4e223b</td>\n",
       "      <td>magica</td>\n",
       "      <td>545</td>\n",
       "    </tr>\n",
       "    <tr>\n",
       "      <th>7</th>\n",
       "      <td>00000c289a1829a808ac09c00daf10bc3c4e223b</td>\n",
       "      <td>the black dahlia murder</td>\n",
       "      <td>507</td>\n",
       "    </tr>\n",
       "    <tr>\n",
       "      <th>8</th>\n",
       "      <td>00000c289a1829a808ac09c00daf10bc3c4e223b</td>\n",
       "      <td>the murmurs</td>\n",
       "      <td>424</td>\n",
       "    </tr>\n",
       "    <tr>\n",
       "      <th>9</th>\n",
       "      <td>00000c289a1829a808ac09c00daf10bc3c4e223b</td>\n",
       "      <td>lunachicks</td>\n",
       "      <td>403</td>\n",
       "    </tr>\n",
       "  </tbody>\n",
       "</table>\n",
       "</div>"
      ],
      "text/plain": [
       "                                    user_id                   artist  play\n",
       "0  00000c289a1829a808ac09c00daf10bc3c4e223b          betty blowtorch  2137\n",
       "1  00000c289a1829a808ac09c00daf10bc3c4e223b                die ärzte  1099\n",
       "2  00000c289a1829a808ac09c00daf10bc3c4e223b        melissa etheridge   897\n",
       "3  00000c289a1829a808ac09c00daf10bc3c4e223b                elvenking   717\n",
       "4  00000c289a1829a808ac09c00daf10bc3c4e223b     juliette & the licks   706\n",
       "5  00000c289a1829a808ac09c00daf10bc3c4e223b    red hot chili peppers   691\n",
       "6  00000c289a1829a808ac09c00daf10bc3c4e223b                   magica   545\n",
       "7  00000c289a1829a808ac09c00daf10bc3c4e223b  the black dahlia murder   507\n",
       "8  00000c289a1829a808ac09c00daf10bc3c4e223b              the murmurs   424\n",
       "9  00000c289a1829a808ac09c00daf10bc3c4e223b               lunachicks   403"
      ]
     },
     "execution_count": 4,
     "metadata": {},
     "output_type": "execute_result"
    }
   ],
   "source": [
    "data['artist'] = data['artist'].str.lower() # 검색을 쉽게하기 위해 아티스트 문자열을 소문자로 바꿔줍시다.\n",
    "data.head(10)"
   ]
  },
  {
   "cell_type": "code",
   "execution_count": 5,
   "metadata": {
    "scrolled": true
   },
   "outputs": [
    {
     "data": {
      "text/html": [
       "<div>\n",
       "<style scoped>\n",
       "    .dataframe tbody tr th:only-of-type {\n",
       "        vertical-align: middle;\n",
       "    }\n",
       "\n",
       "    .dataframe tbody tr th {\n",
       "        vertical-align: top;\n",
       "    }\n",
       "\n",
       "    .dataframe thead th {\n",
       "        text-align: right;\n",
       "    }\n",
       "</style>\n",
       "<table border=\"1\" class=\"dataframe\">\n",
       "  <thead>\n",
       "    <tr style=\"text-align: right;\">\n",
       "      <th></th>\n",
       "      <th>user_id</th>\n",
       "      <th>artist</th>\n",
       "      <th>play</th>\n",
       "    </tr>\n",
       "  </thead>\n",
       "  <tbody>\n",
       "    <tr>\n",
       "      <th>0</th>\n",
       "      <td>00000c289a1829a808ac09c00daf10bc3c4e223b</td>\n",
       "      <td>betty blowtorch</td>\n",
       "      <td>2137</td>\n",
       "    </tr>\n",
       "    <tr>\n",
       "      <th>1</th>\n",
       "      <td>00000c289a1829a808ac09c00daf10bc3c4e223b</td>\n",
       "      <td>die ärzte</td>\n",
       "      <td>1099</td>\n",
       "    </tr>\n",
       "    <tr>\n",
       "      <th>2</th>\n",
       "      <td>00000c289a1829a808ac09c00daf10bc3c4e223b</td>\n",
       "      <td>melissa etheridge</td>\n",
       "      <td>897</td>\n",
       "    </tr>\n",
       "    <tr>\n",
       "      <th>3</th>\n",
       "      <td>00000c289a1829a808ac09c00daf10bc3c4e223b</td>\n",
       "      <td>elvenking</td>\n",
       "      <td>717</td>\n",
       "    </tr>\n",
       "    <tr>\n",
       "      <th>4</th>\n",
       "      <td>00000c289a1829a808ac09c00daf10bc3c4e223b</td>\n",
       "      <td>juliette &amp; the licks</td>\n",
       "      <td>706</td>\n",
       "    </tr>\n",
       "    <tr>\n",
       "      <th>5</th>\n",
       "      <td>00000c289a1829a808ac09c00daf10bc3c4e223b</td>\n",
       "      <td>red hot chili peppers</td>\n",
       "      <td>691</td>\n",
       "    </tr>\n",
       "    <tr>\n",
       "      <th>6</th>\n",
       "      <td>00000c289a1829a808ac09c00daf10bc3c4e223b</td>\n",
       "      <td>magica</td>\n",
       "      <td>545</td>\n",
       "    </tr>\n",
       "    <tr>\n",
       "      <th>7</th>\n",
       "      <td>00000c289a1829a808ac09c00daf10bc3c4e223b</td>\n",
       "      <td>the black dahlia murder</td>\n",
       "      <td>507</td>\n",
       "    </tr>\n",
       "    <tr>\n",
       "      <th>8</th>\n",
       "      <td>00000c289a1829a808ac09c00daf10bc3c4e223b</td>\n",
       "      <td>the murmurs</td>\n",
       "      <td>424</td>\n",
       "    </tr>\n",
       "    <tr>\n",
       "      <th>9</th>\n",
       "      <td>00000c289a1829a808ac09c00daf10bc3c4e223b</td>\n",
       "      <td>lunachicks</td>\n",
       "      <td>403</td>\n",
       "    </tr>\n",
       "    <tr>\n",
       "      <th>10</th>\n",
       "      <td>00000c289a1829a808ac09c00daf10bc3c4e223b</td>\n",
       "      <td>walls of jericho</td>\n",
       "      <td>393</td>\n",
       "    </tr>\n",
       "    <tr>\n",
       "      <th>11</th>\n",
       "      <td>00000c289a1829a808ac09c00daf10bc3c4e223b</td>\n",
       "      <td>letzte instanz</td>\n",
       "      <td>387</td>\n",
       "    </tr>\n",
       "    <tr>\n",
       "      <th>12</th>\n",
       "      <td>00000c289a1829a808ac09c00daf10bc3c4e223b</td>\n",
       "      <td>goldfrapp</td>\n",
       "      <td>361</td>\n",
       "    </tr>\n",
       "    <tr>\n",
       "      <th>13</th>\n",
       "      <td>00000c289a1829a808ac09c00daf10bc3c4e223b</td>\n",
       "      <td>horrorpops</td>\n",
       "      <td>358</td>\n",
       "    </tr>\n",
       "    <tr>\n",
       "      <th>14</th>\n",
       "      <td>00000c289a1829a808ac09c00daf10bc3c4e223b</td>\n",
       "      <td>the butchies</td>\n",
       "      <td>329</td>\n",
       "    </tr>\n",
       "    <tr>\n",
       "      <th>15</th>\n",
       "      <td>00000c289a1829a808ac09c00daf10bc3c4e223b</td>\n",
       "      <td>jack off jill</td>\n",
       "      <td>316</td>\n",
       "    </tr>\n",
       "    <tr>\n",
       "      <th>16</th>\n",
       "      <td>00000c289a1829a808ac09c00daf10bc3c4e223b</td>\n",
       "      <td>babes in toyland</td>\n",
       "      <td>310</td>\n",
       "    </tr>\n",
       "    <tr>\n",
       "      <th>17</th>\n",
       "      <td>00000c289a1829a808ac09c00daf10bc3c4e223b</td>\n",
       "      <td>dropkick murphys</td>\n",
       "      <td>302</td>\n",
       "    </tr>\n",
       "    <tr>\n",
       "      <th>18</th>\n",
       "      <td>00000c289a1829a808ac09c00daf10bc3c4e223b</td>\n",
       "      <td>all:my:faults</td>\n",
       "      <td>288</td>\n",
       "    </tr>\n",
       "    <tr>\n",
       "      <th>19</th>\n",
       "      <td>00000c289a1829a808ac09c00daf10bc3c4e223b</td>\n",
       "      <td>le tigre</td>\n",
       "      <td>281</td>\n",
       "    </tr>\n",
       "    <tr>\n",
       "      <th>20</th>\n",
       "      <td>00000c289a1829a808ac09c00daf10bc3c4e223b</td>\n",
       "      <td>schandmaul</td>\n",
       "      <td>244</td>\n",
       "    </tr>\n",
       "    <tr>\n",
       "      <th>21</th>\n",
       "      <td>00000c289a1829a808ac09c00daf10bc3c4e223b</td>\n",
       "      <td>edguy</td>\n",
       "      <td>232</td>\n",
       "    </tr>\n",
       "    <tr>\n",
       "      <th>22</th>\n",
       "      <td>00000c289a1829a808ac09c00daf10bc3c4e223b</td>\n",
       "      <td>maximum the hormone</td>\n",
       "      <td>231</td>\n",
       "    </tr>\n",
       "    <tr>\n",
       "      <th>23</th>\n",
       "      <td>00000c289a1829a808ac09c00daf10bc3c4e223b</td>\n",
       "      <td>all ends</td>\n",
       "      <td>229</td>\n",
       "    </tr>\n",
       "    <tr>\n",
       "      <th>24</th>\n",
       "      <td>00000c289a1829a808ac09c00daf10bc3c4e223b</td>\n",
       "      <td>jack johnson</td>\n",
       "      <td>227</td>\n",
       "    </tr>\n",
       "    <tr>\n",
       "      <th>25</th>\n",
       "      <td>00000c289a1829a808ac09c00daf10bc3c4e223b</td>\n",
       "      <td>eluveitie</td>\n",
       "      <td>222</td>\n",
       "    </tr>\n",
       "    <tr>\n",
       "      <th>26</th>\n",
       "      <td>00000c289a1829a808ac09c00daf10bc3c4e223b</td>\n",
       "      <td>rasputina</td>\n",
       "      <td>220</td>\n",
       "    </tr>\n",
       "    <tr>\n",
       "      <th>27</th>\n",
       "      <td>00000c289a1829a808ac09c00daf10bc3c4e223b</td>\n",
       "      <td>london after midnight</td>\n",
       "      <td>210</td>\n",
       "    </tr>\n",
       "    <tr>\n",
       "      <th>28</th>\n",
       "      <td>00000c289a1829a808ac09c00daf10bc3c4e223b</td>\n",
       "      <td>the killers</td>\n",
       "      <td>208</td>\n",
       "    </tr>\n",
       "    <tr>\n",
       "      <th>29</th>\n",
       "      <td>00000c289a1829a808ac09c00daf10bc3c4e223b</td>\n",
       "      <td>mutyumu</td>\n",
       "      <td>205</td>\n",
       "    </tr>\n",
       "    <tr>\n",
       "      <th>30</th>\n",
       "      <td>00000c289a1829a808ac09c00daf10bc3c4e223b</td>\n",
       "      <td>judas priest</td>\n",
       "      <td>198</td>\n",
       "    </tr>\n",
       "    <tr>\n",
       "      <th>31</th>\n",
       "      <td>00000c289a1829a808ac09c00daf10bc3c4e223b</td>\n",
       "      <td>rob zombie</td>\n",
       "      <td>198</td>\n",
       "    </tr>\n",
       "    <tr>\n",
       "      <th>32</th>\n",
       "      <td>00000c289a1829a808ac09c00daf10bc3c4e223b</td>\n",
       "      <td>the bosshoss</td>\n",
       "      <td>189</td>\n",
       "    </tr>\n",
       "    <tr>\n",
       "      <th>33</th>\n",
       "      <td>00000c289a1829a808ac09c00daf10bc3c4e223b</td>\n",
       "      <td>blue öyster cult</td>\n",
       "      <td>185</td>\n",
       "    </tr>\n",
       "    <tr>\n",
       "      <th>34</th>\n",
       "      <td>00000c289a1829a808ac09c00daf10bc3c4e223b</td>\n",
       "      <td>sandra nasic</td>\n",
       "      <td>183</td>\n",
       "    </tr>\n",
       "    <tr>\n",
       "      <th>35</th>\n",
       "      <td>00000c289a1829a808ac09c00daf10bc3c4e223b</td>\n",
       "      <td>john mayer</td>\n",
       "      <td>182</td>\n",
       "    </tr>\n",
       "    <tr>\n",
       "      <th>36</th>\n",
       "      <td>00000c289a1829a808ac09c00daf10bc3c4e223b</td>\n",
       "      <td>sleater-kinney</td>\n",
       "      <td>175</td>\n",
       "    </tr>\n",
       "    <tr>\n",
       "      <th>37</th>\n",
       "      <td>00000c289a1829a808ac09c00daf10bc3c4e223b</td>\n",
       "      <td>the who</td>\n",
       "      <td>168</td>\n",
       "    </tr>\n",
       "    <tr>\n",
       "      <th>38</th>\n",
       "      <td>00000c289a1829a808ac09c00daf10bc3c4e223b</td>\n",
       "      <td>disciple</td>\n",
       "      <td>154</td>\n",
       "    </tr>\n",
       "    <tr>\n",
       "      <th>39</th>\n",
       "      <td>00000c289a1829a808ac09c00daf10bc3c4e223b</td>\n",
       "      <td>tanzwut</td>\n",
       "      <td>153</td>\n",
       "    </tr>\n",
       "    <tr>\n",
       "      <th>40</th>\n",
       "      <td>00000c289a1829a808ac09c00daf10bc3c4e223b</td>\n",
       "      <td>guano apes</td>\n",
       "      <td>151</td>\n",
       "    </tr>\n",
       "    <tr>\n",
       "      <th>41</th>\n",
       "      <td>00000c289a1829a808ac09c00daf10bc3c4e223b</td>\n",
       "      <td>the rolling stones</td>\n",
       "      <td>150</td>\n",
       "    </tr>\n",
       "    <tr>\n",
       "      <th>42</th>\n",
       "      <td>00000c289a1829a808ac09c00daf10bc3c4e223b</td>\n",
       "      <td>little big town</td>\n",
       "      <td>145</td>\n",
       "    </tr>\n",
       "    <tr>\n",
       "      <th>43</th>\n",
       "      <td>00000c289a1829a808ac09c00daf10bc3c4e223b</td>\n",
       "      <td>team dresch</td>\n",
       "      <td>137</td>\n",
       "    </tr>\n",
       "    <tr>\n",
       "      <th>44</th>\n",
       "      <td>00000c289a1829a808ac09c00daf10bc3c4e223b</td>\n",
       "      <td>betty</td>\n",
       "      <td>135</td>\n",
       "    </tr>\n",
       "    <tr>\n",
       "      <th>45</th>\n",
       "      <td>00000c289a1829a808ac09c00daf10bc3c4e223b</td>\n",
       "      <td>l7</td>\n",
       "      <td>135</td>\n",
       "    </tr>\n",
       "    <tr>\n",
       "      <th>46</th>\n",
       "      <td>00000c289a1829a808ac09c00daf10bc3c4e223b</td>\n",
       "      <td>bif naked</td>\n",
       "      <td>134</td>\n",
       "    </tr>\n",
       "    <tr>\n",
       "      <th>47</th>\n",
       "      <td>00000c289a1829a808ac09c00daf10bc3c4e223b</td>\n",
       "      <td>girlschool</td>\n",
       "      <td>134</td>\n",
       "    </tr>\n",
       "    <tr>\n",
       "      <th>48</th>\n",
       "      <td>00000c289a1829a808ac09c00daf10bc3c4e223b</td>\n",
       "      <td>the wallflowers</td>\n",
       "      <td>131</td>\n",
       "    </tr>\n",
       "  </tbody>\n",
       "</table>\n",
       "</div>"
      ],
      "text/plain": [
       "                                     user_id                   artist  play\n",
       "0   00000c289a1829a808ac09c00daf10bc3c4e223b          betty blowtorch  2137\n",
       "1   00000c289a1829a808ac09c00daf10bc3c4e223b                die ärzte  1099\n",
       "2   00000c289a1829a808ac09c00daf10bc3c4e223b        melissa etheridge   897\n",
       "3   00000c289a1829a808ac09c00daf10bc3c4e223b                elvenking   717\n",
       "4   00000c289a1829a808ac09c00daf10bc3c4e223b     juliette & the licks   706\n",
       "5   00000c289a1829a808ac09c00daf10bc3c4e223b    red hot chili peppers   691\n",
       "6   00000c289a1829a808ac09c00daf10bc3c4e223b                   magica   545\n",
       "7   00000c289a1829a808ac09c00daf10bc3c4e223b  the black dahlia murder   507\n",
       "8   00000c289a1829a808ac09c00daf10bc3c4e223b              the murmurs   424\n",
       "9   00000c289a1829a808ac09c00daf10bc3c4e223b               lunachicks   403\n",
       "10  00000c289a1829a808ac09c00daf10bc3c4e223b         walls of jericho   393\n",
       "11  00000c289a1829a808ac09c00daf10bc3c4e223b           letzte instanz   387\n",
       "12  00000c289a1829a808ac09c00daf10bc3c4e223b                goldfrapp   361\n",
       "13  00000c289a1829a808ac09c00daf10bc3c4e223b               horrorpops   358\n",
       "14  00000c289a1829a808ac09c00daf10bc3c4e223b             the butchies   329\n",
       "15  00000c289a1829a808ac09c00daf10bc3c4e223b            jack off jill   316\n",
       "16  00000c289a1829a808ac09c00daf10bc3c4e223b         babes in toyland   310\n",
       "17  00000c289a1829a808ac09c00daf10bc3c4e223b         dropkick murphys   302\n",
       "18  00000c289a1829a808ac09c00daf10bc3c4e223b            all:my:faults   288\n",
       "19  00000c289a1829a808ac09c00daf10bc3c4e223b                 le tigre   281\n",
       "20  00000c289a1829a808ac09c00daf10bc3c4e223b               schandmaul   244\n",
       "21  00000c289a1829a808ac09c00daf10bc3c4e223b                    edguy   232\n",
       "22  00000c289a1829a808ac09c00daf10bc3c4e223b      maximum the hormone   231\n",
       "23  00000c289a1829a808ac09c00daf10bc3c4e223b                 all ends   229\n",
       "24  00000c289a1829a808ac09c00daf10bc3c4e223b             jack johnson   227\n",
       "25  00000c289a1829a808ac09c00daf10bc3c4e223b                eluveitie   222\n",
       "26  00000c289a1829a808ac09c00daf10bc3c4e223b                rasputina   220\n",
       "27  00000c289a1829a808ac09c00daf10bc3c4e223b    london after midnight   210\n",
       "28  00000c289a1829a808ac09c00daf10bc3c4e223b              the killers   208\n",
       "29  00000c289a1829a808ac09c00daf10bc3c4e223b                  mutyumu   205\n",
       "30  00000c289a1829a808ac09c00daf10bc3c4e223b             judas priest   198\n",
       "31  00000c289a1829a808ac09c00daf10bc3c4e223b               rob zombie   198\n",
       "32  00000c289a1829a808ac09c00daf10bc3c4e223b             the bosshoss   189\n",
       "33  00000c289a1829a808ac09c00daf10bc3c4e223b         blue öyster cult   185\n",
       "34  00000c289a1829a808ac09c00daf10bc3c4e223b             sandra nasic   183\n",
       "35  00000c289a1829a808ac09c00daf10bc3c4e223b               john mayer   182\n",
       "36  00000c289a1829a808ac09c00daf10bc3c4e223b           sleater-kinney   175\n",
       "37  00000c289a1829a808ac09c00daf10bc3c4e223b                  the who   168\n",
       "38  00000c289a1829a808ac09c00daf10bc3c4e223b                 disciple   154\n",
       "39  00000c289a1829a808ac09c00daf10bc3c4e223b                  tanzwut   153\n",
       "40  00000c289a1829a808ac09c00daf10bc3c4e223b               guano apes   151\n",
       "41  00000c289a1829a808ac09c00daf10bc3c4e223b       the rolling stones   150\n",
       "42  00000c289a1829a808ac09c00daf10bc3c4e223b          little big town   145\n",
       "43  00000c289a1829a808ac09c00daf10bc3c4e223b              team dresch   137\n",
       "44  00000c289a1829a808ac09c00daf10bc3c4e223b                    betty   135\n",
       "45  00000c289a1829a808ac09c00daf10bc3c4e223b                       l7   135\n",
       "46  00000c289a1829a808ac09c00daf10bc3c4e223b                bif naked   134\n",
       "47  00000c289a1829a808ac09c00daf10bc3c4e223b               girlschool   134\n",
       "48  00000c289a1829a808ac09c00daf10bc3c4e223b          the wallflowers   131"
      ]
     },
     "execution_count": 5,
     "metadata": {},
     "output_type": "execute_result"
    }
   ],
   "source": [
    "condition = data['user_id']== data.loc[0, 'user_id']\n",
    "data.loc[condition]"
   ]
  },
  {
   "cell_type": "code",
   "execution_count": 6,
   "metadata": {},
   "outputs": [
    {
     "data": {
      "text/plain": [
       "358868"
      ]
     },
     "execution_count": 6,
     "metadata": {},
     "output_type": "execute_result"
    }
   ],
   "source": [
    "# 유저 수\n",
    "data['user_id'].nunique()"
   ]
  },
  {
   "cell_type": "code",
   "execution_count": 7,
   "metadata": {},
   "outputs": [
    {
     "data": {
      "text/plain": [
       "291346"
      ]
     },
     "execution_count": 7,
     "metadata": {},
     "output_type": "execute_result"
    }
   ],
   "source": [
    "# 아티스트 수\n",
    "data['artist'].nunique()"
   ]
  },
  {
   "cell_type": "code",
   "execution_count": 8,
   "metadata": {
    "scrolled": true
   },
   "outputs": [
    {
     "data": {
      "text/plain": [
       "artist\n",
       "radiohead                77254\n",
       "the beatles              76245\n",
       "coldplay                 66658\n",
       "red hot chili peppers    48924\n",
       "muse                     46954\n",
       "metallica                45233\n",
       "pink floyd               44443\n",
       "the killers              41229\n",
       "linkin park              39773\n",
       "nirvana                  39479\n",
       "system of a down         37267\n",
       "queen                    34174\n",
       "u2                       33206\n",
       "daft punk                33001\n",
       "the cure                 32624\n",
       "led zeppelin             32295\n",
       "placebo                  32072\n",
       "depeche mode             31916\n",
       "david bowie              31862\n",
       "bob dylan                31799\n",
       "death cab for cutie      31482\n",
       "arctic monkeys           30348\n",
       "foo fighters             30144\n",
       "air                      29795\n",
       "the rolling stones       29754\n",
       "nine inch nails          28946\n",
       "sigur rós                28901\n",
       "green day                28732\n",
       "massive attack           28691\n",
       "moby                     28232\n",
       "Name: user_id, dtype: int64"
      ]
     },
     "execution_count": 8,
     "metadata": {},
     "output_type": "execute_result"
    }
   ],
   "source": [
    "# 인기 많은 아티스트\n",
    "artist_count = data.groupby('artist')['user_id'].count()\n",
    "artist_count.sort_values(ascending=False).head(30)"
   ]
  },
  {
   "cell_type": "code",
   "execution_count": 9,
   "metadata": {},
   "outputs": [
    {
     "data": {
      "text/plain": [
       "count    358868.000000\n",
       "mean         48.863234\n",
       "std           8.524272\n",
       "min           1.000000\n",
       "25%          46.000000\n",
       "50%          49.000000\n",
       "75%          51.000000\n",
       "max         166.000000\n",
       "Name: artist, dtype: float64"
      ]
     },
     "execution_count": 9,
     "metadata": {},
     "output_type": "execute_result"
    }
   ],
   "source": [
    "# 유저별 몇 명의 아티스트를 듣고 있는지에 대한 통계\n",
    "user_count = data.groupby('user_id')['artist'].count()\n",
    "user_count.describe()"
   ]
  },
  {
   "cell_type": "code",
   "execution_count": 10,
   "metadata": {},
   "outputs": [
    {
     "data": {
      "text/plain": [
       "count    358868.000000\n",
       "mean        142.187676\n",
       "std         213.089902\n",
       "min           1.000000\n",
       "25%          32.000000\n",
       "50%          83.000000\n",
       "75%         180.000000\n",
       "max       50142.000000\n",
       "Name: play, dtype: float64"
      ]
     },
     "execution_count": 10,
     "metadata": {},
     "output_type": "execute_result"
    }
   ],
   "source": [
    "# 유저별 play횟수 중앙값에 대한 통계\n",
    "user_median = data.groupby('user_id')['play'].median()\n",
    "user_median.describe()"
   ]
  },
  {
   "cell_type": "code",
   "execution_count": 11,
   "metadata": {
    "scrolled": false
   },
   "outputs": [
    {
     "data": {
      "text/html": [
       "<div>\n",
       "<style scoped>\n",
       "    .dataframe tbody tr th:only-of-type {\n",
       "        vertical-align: middle;\n",
       "    }\n",
       "\n",
       "    .dataframe tbody tr th {\n",
       "        vertical-align: top;\n",
       "    }\n",
       "\n",
       "    .dataframe thead th {\n",
       "        text-align: right;\n",
       "    }\n",
       "</style>\n",
       "<table border=\"1\" class=\"dataframe\">\n",
       "  <thead>\n",
       "    <tr style=\"text-align: right;\">\n",
       "      <th></th>\n",
       "      <th>user_id</th>\n",
       "      <th>artist</th>\n",
       "      <th>play</th>\n",
       "    </tr>\n",
       "  </thead>\n",
       "  <tbody>\n",
       "    <tr>\n",
       "      <th>17535650</th>\n",
       "      <td>sep 20, 2008</td>\n",
       "      <td>turbostaat</td>\n",
       "      <td>12</td>\n",
       "    </tr>\n",
       "    <tr>\n",
       "      <th>17535651</th>\n",
       "      <td>sep 20, 2008</td>\n",
       "      <td>cuba missouri</td>\n",
       "      <td>11</td>\n",
       "    </tr>\n",
       "    <tr>\n",
       "      <th>17535652</th>\n",
       "      <td>sep 20, 2008</td>\n",
       "      <td>little man tate</td>\n",
       "      <td>11</td>\n",
       "    </tr>\n",
       "    <tr>\n",
       "      <th>17535653</th>\n",
       "      <td>sep 20, 2008</td>\n",
       "      <td>sigur rós</td>\n",
       "      <td>10</td>\n",
       "    </tr>\n",
       "    <tr>\n",
       "      <th>17535654</th>\n",
       "      <td>sep 20, 2008</td>\n",
       "      <td>the smiths</td>\n",
       "      <td>10</td>\n",
       "    </tr>\n",
       "    <tr>\n",
       "      <th>0</th>\n",
       "      <td>zimin</td>\n",
       "      <td>black eyed peas</td>\n",
       "      <td>30</td>\n",
       "    </tr>\n",
       "    <tr>\n",
       "      <th>1</th>\n",
       "      <td>zimin</td>\n",
       "      <td>maroon5</td>\n",
       "      <td>30</td>\n",
       "    </tr>\n",
       "    <tr>\n",
       "      <th>2</th>\n",
       "      <td>zimin</td>\n",
       "      <td>jason mraz</td>\n",
       "      <td>30</td>\n",
       "    </tr>\n",
       "    <tr>\n",
       "      <th>3</th>\n",
       "      <td>zimin</td>\n",
       "      <td>coldplay</td>\n",
       "      <td>30</td>\n",
       "    </tr>\n",
       "    <tr>\n",
       "      <th>4</th>\n",
       "      <td>zimin</td>\n",
       "      <td>beyoncé</td>\n",
       "      <td>30</td>\n",
       "    </tr>\n",
       "  </tbody>\n",
       "</table>\n",
       "</div>"
      ],
      "text/plain": [
       "               user_id           artist  play\n",
       "17535650  sep 20, 2008       turbostaat    12\n",
       "17535651  sep 20, 2008    cuba missouri    11\n",
       "17535652  sep 20, 2008  little man tate    11\n",
       "17535653  sep 20, 2008        sigur rós    10\n",
       "17535654  sep 20, 2008       the smiths    10\n",
       "0                zimin  black eyed peas    30\n",
       "1                zimin          maroon5    30\n",
       "2                zimin       jason mraz    30\n",
       "3                zimin         coldplay    30\n",
       "4                zimin          beyoncé    30"
      ]
     },
     "execution_count": 11,
     "metadata": {},
     "output_type": "execute_result"
    }
   ],
   "source": [
    "# 본인이 좋아하시는 아티스트 데이터로 바꿔서 추가하셔도 됩니다! 단, 이름은 꼭 데이터셋에 있는 것과 동일하게 맞춰주세요. \n",
    "my_favorite = ['black eyed peas' , 'maroon5' ,'jason mraz' ,'coldplay' ,'beyoncé']\n",
    "\n",
    "# 'zimin'이라는 user_id가 위 아티스트의 노래를 30회씩 들었다고 가정하겠습니다.\n",
    "my_playlist = pd.DataFrame({'user_id': ['zimin']*5, 'artist': my_favorite, 'play':[30]*5})\n",
    "\n",
    "if not data.isin({'user_id':['zimin']})['user_id'].any():  # user_id에 'zimin'이라는 데이터가 없다면\n",
    "    data = data.append(my_playlist)                           # 위에 임의로 만든 my_favorite 데이터를 추가해 줍니다. \n",
    "\n",
    "data.tail(10)       # 잘 추가되었는지 확인해 봅시다."
   ]
  },
  {
   "cell_type": "code",
   "execution_count": 12,
   "metadata": {},
   "outputs": [
    {
     "data": {
      "text/html": [
       "<div>\n",
       "<style scoped>\n",
       "    .dataframe tbody tr th:only-of-type {\n",
       "        vertical-align: middle;\n",
       "    }\n",
       "\n",
       "    .dataframe tbody tr th {\n",
       "        vertical-align: top;\n",
       "    }\n",
       "\n",
       "    .dataframe thead th {\n",
       "        text-align: right;\n",
       "    }\n",
       "</style>\n",
       "<table border=\"1\" class=\"dataframe\">\n",
       "  <thead>\n",
       "    <tr style=\"text-align: right;\">\n",
       "      <th></th>\n",
       "      <th>user_id</th>\n",
       "      <th>artist</th>\n",
       "      <th>play</th>\n",
       "    </tr>\n",
       "  </thead>\n",
       "  <tbody>\n",
       "    <tr>\n",
       "      <th>0</th>\n",
       "      <td>zimin</td>\n",
       "      <td>black eyed peas</td>\n",
       "      <td>30</td>\n",
       "    </tr>\n",
       "    <tr>\n",
       "      <th>1</th>\n",
       "      <td>zimin</td>\n",
       "      <td>maroon5</td>\n",
       "      <td>30</td>\n",
       "    </tr>\n",
       "    <tr>\n",
       "      <th>2</th>\n",
       "      <td>zimin</td>\n",
       "      <td>jason mraz</td>\n",
       "      <td>30</td>\n",
       "    </tr>\n",
       "    <tr>\n",
       "      <th>3</th>\n",
       "      <td>zimin</td>\n",
       "      <td>coldplay</td>\n",
       "      <td>30</td>\n",
       "    </tr>\n",
       "    <tr>\n",
       "      <th>4</th>\n",
       "      <td>zimin</td>\n",
       "      <td>beyoncé</td>\n",
       "      <td>30</td>\n",
       "    </tr>\n",
       "  </tbody>\n",
       "</table>\n",
       "</div>"
      ],
      "text/plain": [
       "  user_id           artist  play\n",
       "0   zimin  black eyed peas    30\n",
       "1   zimin          maroon5    30\n",
       "2   zimin       jason mraz    30\n",
       "3   zimin         coldplay    30\n",
       "4   zimin          beyoncé    30"
      ]
     },
     "execution_count": 12,
     "metadata": {},
     "output_type": "execute_result"
    }
   ],
   "source": [
    "my_playlist"
   ]
  },
  {
   "cell_type": "code",
   "execution_count": 13,
   "metadata": {},
   "outputs": [],
   "source": [
    "# 고유한 유저, 아티스트를 찾아내는 코드\n",
    "user_unique = data['user_id'].unique()\n",
    "artist_unique = data['artist'].unique()\n",
    "\n",
    "# 유저, 아티스트 indexing 하는 코드 idx는 index의 약자입니다.\n",
    "user_to_idx = {v:k for k,v in enumerate(user_unique)}\n",
    "artist_to_idx = {v:k for k,v in enumerate(artist_unique)}"
   ]
  },
  {
   "cell_type": "code",
   "execution_count": 14,
   "metadata": {},
   "outputs": [
    {
     "name": "stdout",
     "output_type": "stream",
     "text": [
      "358868\n",
      "376\n"
     ]
    }
   ],
   "source": [
    "# 인덱싱이 잘 되었는지 확인해 봅니다. \n",
    "print(user_to_idx['zimin'])    # 358869명의 유저 중 마지막으로 추가된 유저이니 358868이 나와야 합니다. \n",
    "print(artist_to_idx['black eyed peas'])"
   ]
  },
  {
   "cell_type": "code",
   "execution_count": 15,
   "metadata": {},
   "outputs": [
    {
     "name": "stdout",
     "output_type": "stream",
     "text": [
      "user_id column indexing OK!!\n",
      "artist column indexing OK!!\n"
     ]
    },
    {
     "data": {
      "text/html": [
       "<div>\n",
       "<style scoped>\n",
       "    .dataframe tbody tr th:only-of-type {\n",
       "        vertical-align: middle;\n",
       "    }\n",
       "\n",
       "    .dataframe tbody tr th {\n",
       "        vertical-align: top;\n",
       "    }\n",
       "\n",
       "    .dataframe thead th {\n",
       "        text-align: right;\n",
       "    }\n",
       "</style>\n",
       "<table border=\"1\" class=\"dataframe\">\n",
       "  <thead>\n",
       "    <tr style=\"text-align: right;\">\n",
       "      <th></th>\n",
       "      <th>user_id</th>\n",
       "      <th>artist</th>\n",
       "      <th>play</th>\n",
       "    </tr>\n",
       "  </thead>\n",
       "  <tbody>\n",
       "    <tr>\n",
       "      <th>0</th>\n",
       "      <td>0</td>\n",
       "      <td>0</td>\n",
       "      <td>2137</td>\n",
       "    </tr>\n",
       "    <tr>\n",
       "      <th>1</th>\n",
       "      <td>0</td>\n",
       "      <td>1</td>\n",
       "      <td>1099</td>\n",
       "    </tr>\n",
       "    <tr>\n",
       "      <th>2</th>\n",
       "      <td>0</td>\n",
       "      <td>2</td>\n",
       "      <td>897</td>\n",
       "    </tr>\n",
       "    <tr>\n",
       "      <th>3</th>\n",
       "      <td>0</td>\n",
       "      <td>3</td>\n",
       "      <td>717</td>\n",
       "    </tr>\n",
       "    <tr>\n",
       "      <th>4</th>\n",
       "      <td>0</td>\n",
       "      <td>4</td>\n",
       "      <td>706</td>\n",
       "    </tr>\n",
       "    <tr>\n",
       "      <th>...</th>\n",
       "      <td>...</td>\n",
       "      <td>...</td>\n",
       "      <td>...</td>\n",
       "    </tr>\n",
       "    <tr>\n",
       "      <th>0</th>\n",
       "      <td>358868</td>\n",
       "      <td>376</td>\n",
       "      <td>30</td>\n",
       "    </tr>\n",
       "    <tr>\n",
       "      <th>1</th>\n",
       "      <td>358868</td>\n",
       "      <td>270115</td>\n",
       "      <td>30</td>\n",
       "    </tr>\n",
       "    <tr>\n",
       "      <th>2</th>\n",
       "      <td>358868</td>\n",
       "      <td>3746</td>\n",
       "      <td>30</td>\n",
       "    </tr>\n",
       "    <tr>\n",
       "      <th>3</th>\n",
       "      <td>358868</td>\n",
       "      <td>62</td>\n",
       "      <td>30</td>\n",
       "    </tr>\n",
       "    <tr>\n",
       "      <th>4</th>\n",
       "      <td>358868</td>\n",
       "      <td>396</td>\n",
       "      <td>30</td>\n",
       "    </tr>\n",
       "  </tbody>\n",
       "</table>\n",
       "<p>17535660 rows × 3 columns</p>\n",
       "</div>"
      ],
      "text/plain": [
       "    user_id  artist  play\n",
       "0         0       0  2137\n",
       "1         0       1  1099\n",
       "2         0       2   897\n",
       "3         0       3   717\n",
       "4         0       4   706\n",
       "..      ...     ...   ...\n",
       "0    358868     376    30\n",
       "1    358868  270115    30\n",
       "2    358868    3746    30\n",
       "3    358868      62    30\n",
       "4    358868     396    30\n",
       "\n",
       "[17535660 rows x 3 columns]"
      ]
     },
     "execution_count": 15,
     "metadata": {},
     "output_type": "execute_result"
    }
   ],
   "source": [
    "# indexing을 통해 데이터 컬럼 내 값을 바꾸는 코드\n",
    "# dictionary 자료형의 get 함수는 https://wikidocs.net/16 을 참고하세요.\n",
    "\n",
    "# user_to_idx.get을 통해 user_id 컬럼의 모든 값을 인덱싱한 Series를 구해 봅시다. \n",
    "# 혹시 정상적으로 인덱싱되지 않은 row가 있다면 인덱스가 NaN이 될 테니 dropna()로 제거합니다. \n",
    "temp_user_data = data['user_id'].map(user_to_idx.get).dropna()\n",
    "if len(temp_user_data) == len(data):   # 모든 row가 정상적으로 인덱싱되었다면\n",
    "    print('user_id column indexing OK!!')\n",
    "    data['user_id'] = temp_user_data   # data['user_id']을 인덱싱된 Series로 교체해 줍니다. \n",
    "else:\n",
    "    print('user_id column indexing Fail!!')\n",
    "\n",
    "# artist_to_idx을 통해 artist 컬럼도 동일한 방식으로 인덱싱해 줍니다. \n",
    "temp_artist_data = data['artist'].map(artist_to_idx.get).dropna()\n",
    "if len(temp_artist_data) == len(data):\n",
    "    print('artist column indexing OK!!')\n",
    "    data['artist'] = temp_artist_data\n",
    "else:\n",
    "    print('artist column indexing Fail!!')\n",
    "\n",
    "data"
   ]
  },
  {
   "cell_type": "code",
   "execution_count": 16,
   "metadata": {},
   "outputs": [
    {
     "name": "stdout",
     "output_type": "stream",
     "text": [
      "147740,17535660\n",
      "Ratio of only_one over all data is 0.84%\n"
     ]
    }
   ],
   "source": [
    "# 1회만 play한 데이터의 비율을 보는 코드\n",
    "only_one = data[data['play']<2]\n",
    "one, all_data = len(only_one), len(data)\n",
    "print(f'{one},{all_data}')\n",
    "print(f'Ratio of only_one over all data is {one/all_data:.2%}')  # f-format에 대한 설명은 https://bit.ly/2DTLqYU"
   ]
  },
  {
   "cell_type": "code",
   "execution_count": 24,
   "metadata": {},
   "outputs": [],
   "source": [
    "import numpy as np\n",
    "from scipy.sparse import csr_matrix\n",
    "\n",
    "# x = [[1, 0, 0, 0, 2],\n",
    "#      [0, 3, 0, 4, 0],\n",
    "#      [0, 0, 0, 0, 0],\n",
    "#      [5, 0, 0, 6, 0]]\n",
    "# x = np.asarray(x)\n",
    "# csr = csr_matrix(x)"
   ]
  },
  {
   "cell_type": "code",
   "execution_count": 18,
   "metadata": {},
   "outputs": [],
   "source": [
    "# x = [[0, 1, 3, 5, 0],\n",
    "#      [6, 2, 0, 11, 0],\n",
    "#      [0, 7, 9, 0, 0],\n",
    "#      [0, 0, 10, 12, 0]]\n",
    "# x = np.asarray(x)\n",
    "# csr = csr_matrix(x)"
   ]
  },
  {
   "cell_type": "code",
   "execution_count": 19,
   "metadata": {},
   "outputs": [],
   "source": [
    "# print(csr)"
   ]
  },
  {
   "cell_type": "code",
   "execution_count": 20,
   "metadata": {},
   "outputs": [],
   "source": [
    "# from scipy.sparse import csr_matrix\n",
    "\n",
    "# rows = [0, 0, 1, 1, 3, 3]\n",
    "# cols = [0, 4, 1, 3, 0, 3]\n",
    "# data = [1, 2, 3, 4, 5, 6]\n",
    "# csr = csr_matrix((data, (rows, cols)))"
   ]
  },
  {
   "cell_type": "code",
   "execution_count": 21,
   "metadata": {
    "scrolled": true
   },
   "outputs": [],
   "source": [
    "# print(csr)\n",
    "# print(csr.todense())"
   ]
  },
  {
   "cell_type": "code",
   "execution_count": 22,
   "metadata": {
    "scrolled": true
   },
   "outputs": [],
   "source": [
    "# for i, (b, e) in enumerate(zip(csr.indptr, csr.indptr[1:])):\n",
    "#     print(b,e)\n",
    "#     for idx in range(b, e):\n",
    "#         j = csr.indices[idx]\n",
    "#         d = csr.data[idx]\n",
    "#         print('({}, {}) = {}'.format(i, j, d))"
   ]
  },
  {
   "cell_type": "code",
   "execution_count": 29,
   "metadata": {},
   "outputs": [],
   "source": [
    "# rows, cols = csr.nonzero()\n",
    "# print(rows)\n",
    "# print(cols)"
   ]
  },
  {
   "cell_type": "code",
   "execution_count": 33,
   "metadata": {},
   "outputs": [
    {
     "data": {
      "text/html": [
       "<div>\n",
       "<style scoped>\n",
       "    .dataframe tbody tr th:only-of-type {\n",
       "        vertical-align: middle;\n",
       "    }\n",
       "\n",
       "    .dataframe tbody tr th {\n",
       "        vertical-align: top;\n",
       "    }\n",
       "\n",
       "    .dataframe thead th {\n",
       "        text-align: right;\n",
       "    }\n",
       "</style>\n",
       "<table border=\"1\" class=\"dataframe\">\n",
       "  <thead>\n",
       "    <tr style=\"text-align: right;\">\n",
       "      <th></th>\n",
       "      <th>user_id</th>\n",
       "      <th>artist</th>\n",
       "      <th>play</th>\n",
       "    </tr>\n",
       "  </thead>\n",
       "  <tbody>\n",
       "    <tr>\n",
       "      <th>0</th>\n",
       "      <td>0</td>\n",
       "      <td>0</td>\n",
       "      <td>2137</td>\n",
       "    </tr>\n",
       "    <tr>\n",
       "      <th>1</th>\n",
       "      <td>0</td>\n",
       "      <td>1</td>\n",
       "      <td>1099</td>\n",
       "    </tr>\n",
       "    <tr>\n",
       "      <th>2</th>\n",
       "      <td>0</td>\n",
       "      <td>2</td>\n",
       "      <td>897</td>\n",
       "    </tr>\n",
       "    <tr>\n",
       "      <th>3</th>\n",
       "      <td>0</td>\n",
       "      <td>3</td>\n",
       "      <td>717</td>\n",
       "    </tr>\n",
       "    <tr>\n",
       "      <th>4</th>\n",
       "      <td>0</td>\n",
       "      <td>4</td>\n",
       "      <td>706</td>\n",
       "    </tr>\n",
       "    <tr>\n",
       "      <th>...</th>\n",
       "      <td>...</td>\n",
       "      <td>...</td>\n",
       "      <td>...</td>\n",
       "    </tr>\n",
       "    <tr>\n",
       "      <th>0</th>\n",
       "      <td>358868</td>\n",
       "      <td>376</td>\n",
       "      <td>30</td>\n",
       "    </tr>\n",
       "    <tr>\n",
       "      <th>1</th>\n",
       "      <td>358868</td>\n",
       "      <td>270115</td>\n",
       "      <td>30</td>\n",
       "    </tr>\n",
       "    <tr>\n",
       "      <th>2</th>\n",
       "      <td>358868</td>\n",
       "      <td>3746</td>\n",
       "      <td>30</td>\n",
       "    </tr>\n",
       "    <tr>\n",
       "      <th>3</th>\n",
       "      <td>358868</td>\n",
       "      <td>62</td>\n",
       "      <td>30</td>\n",
       "    </tr>\n",
       "    <tr>\n",
       "      <th>4</th>\n",
       "      <td>358868</td>\n",
       "      <td>396</td>\n",
       "      <td>30</td>\n",
       "    </tr>\n",
       "  </tbody>\n",
       "</table>\n",
       "<p>17535660 rows × 3 columns</p>\n",
       "</div>"
      ],
      "text/plain": [
       "    user_id  artist  play\n",
       "0         0       0  2137\n",
       "1         0       1  1099\n",
       "2         0       2   897\n",
       "3         0       3   717\n",
       "4         0       4   706\n",
       "..      ...     ...   ...\n",
       "0    358868     376    30\n",
       "1    358868  270115    30\n",
       "2    358868    3746    30\n",
       "3    358868      62    30\n",
       "4    358868     396    30\n",
       "\n",
       "[17535660 rows x 3 columns]"
      ]
     },
     "execution_count": 33,
     "metadata": {},
     "output_type": "execute_result"
    }
   ],
   "source": [
    "data"
   ]
  },
  {
   "cell_type": "code",
   "execution_count": 35,
   "metadata": {},
   "outputs": [
    {
     "data": {
      "text/plain": [
       "0    2137\n",
       "1    1099\n",
       "2     897\n",
       "3     717\n",
       "4     706\n",
       "     ... \n",
       "0      30\n",
       "1      30\n",
       "2      30\n",
       "3      30\n",
       "4      30\n",
       "Name: play, Length: 17535660, dtype: int64"
      ]
     },
     "execution_count": 35,
     "metadata": {},
     "output_type": "execute_result"
    }
   ],
   "source": [
    "data.play"
   ]
  },
  {
   "cell_type": "code",
   "execution_count": 36,
   "metadata": {},
   "outputs": [
    {
     "data": {
      "text/plain": [
       "0         0\n",
       "1         0\n",
       "2         0\n",
       "3         0\n",
       "4         0\n",
       "      ...  \n",
       "0    358868\n",
       "1    358868\n",
       "2    358868\n",
       "3    358868\n",
       "4    358868\n",
       "Name: user_id, Length: 17535660, dtype: int64"
      ]
     },
     "execution_count": 36,
     "metadata": {},
     "output_type": "execute_result"
    }
   ],
   "source": [
    "data.user_id"
   ]
  },
  {
   "cell_type": "code",
   "execution_count": 28,
   "metadata": {},
   "outputs": [
    {
     "name": "stdout",
     "output_type": "stream",
     "text": [
      "(17535660,)\n",
      "(17535660,)\n",
      "(17535660,)\n"
     ]
    }
   ],
   "source": [
    "print(np.shape(data.play))\n",
    "print(np.shape(data.user_id))\n",
    "print(np.shape(data.artist))"
   ]
  },
  {
   "cell_type": "code",
   "execution_count": 32,
   "metadata": {},
   "outputs": [
    {
     "name": "stdout",
     "output_type": "stream",
     "text": [
      "(17535660,)\n"
     ]
    }
   ],
   "source": [
    "print(np.shape(data.play))"
   ]
  },
  {
   "cell_type": "code",
   "execution_count": 16,
   "metadata": {},
   "outputs": [
    {
     "data": {
      "text/plain": [
       "<358869x291347 sparse matrix of type '<class 'numpy.longlong'>'\n",
       "\twith 17535578 stored elements in Compressed Sparse Row format>"
      ]
     },
     "execution_count": 16,
     "metadata": {},
     "output_type": "execute_result"
    }
   ],
   "source": [
    "# 실습 위에 설명보고 이해해서 만들어보기\n",
    "from scipy.sparse import csr_matrix\n",
    "\n",
    "num_user = data['user_id'].nunique()\n",
    "num_artist = data['artist'].nunique()\n",
    "\n",
    "csr_data = csr_matrix((data.play, (data.user_id, data.artist)), shape= (num_user, num_artist))\n",
    "csr_data"
   ]
  },
  {
   "cell_type": "code",
   "execution_count": 17,
   "metadata": {},
   "outputs": [],
   "source": [
    "from implicit.als import AlternatingLeastSquares\n",
    "import os\n",
    "import numpy as np\n",
    "\n",
    "# implicit 라이브러리에서 권장하고 있는 부분입니다. 학습 내용과는 무관합니다.\n",
    "os.environ['OPENBLAS_NUM_THREADS']='1'\n",
    "os.environ['KMP_DUPLICATE_LIB_OK']='True'\n",
    "os.environ['MKL_NUM_THREADS']='1'"
   ]
  },
  {
   "cell_type": "code",
   "execution_count": 18,
   "metadata": {},
   "outputs": [],
   "source": [
    "# Implicit AlternatingLeastSquares 모델의 선언\n",
    "als_model = AlternatingLeastSquares(factors=100, regularization=0.01, use_gpu=False, iterations=15, dtype=np.float32)"
   ]
  },
  {
   "cell_type": "code",
   "execution_count": 19,
   "metadata": {},
   "outputs": [
    {
     "data": {
      "text/plain": [
       "<291347x358869 sparse matrix of type '<class 'numpy.longlong'>'\n",
       "\twith 17535578 stored elements in Compressed Sparse Column format>"
      ]
     },
     "execution_count": 19,
     "metadata": {},
     "output_type": "execute_result"
    }
   ],
   "source": [
    "# als 모델은 input으로 (item X user 꼴의 matrix를 받기 때문에 Transpose해줍니다.)\n",
    "csr_data_transpose = csr_data.T\n",
    "csr_data_transpose"
   ]
  },
  {
   "cell_type": "code",
   "execution_count": 20,
   "metadata": {},
   "outputs": [
    {
     "data": {
      "application/vnd.jupyter.widget-view+json": {
       "model_id": "e2f2dd5abb3f419c96eec883f2a39fa2",
       "version_major": 2,
       "version_minor": 0
      },
      "text/plain": [
       "HBox(children=(FloatProgress(value=0.0, max=15.0), HTML(value='')))"
      ]
     },
     "metadata": {},
     "output_type": "display_data"
    },
    {
     "name": "stdout",
     "output_type": "stream",
     "text": [
      "\n"
     ]
    }
   ],
   "source": [
    "# 모델 훈련\n",
    "als_model.fit(csr_data_transpose)"
   ]
  },
  {
   "cell_type": "code",
   "execution_count": 21,
   "metadata": {},
   "outputs": [
    {
     "name": "stdout",
     "output_type": "stream",
     "text": [
      "슝=3\n"
     ]
    }
   ],
   "source": [
    "zimin, black_eyed_peas = user_to_idx['zimin'], artist_to_idx['black eyed peas']\n",
    "zimin_vector, black_eyed_peas_vector = als_model.user_factors[zimin], als_model.item_factors[black_eyed_peas]\n",
    "\n",
    "print('슝=3')"
   ]
  },
  {
   "cell_type": "code",
   "execution_count": 22,
   "metadata": {},
   "outputs": [
    {
     "data": {
      "text/plain": [
       "array([ 0.07120951, -0.29144004,  0.07304869, -0.5893397 , -0.24328738,\n",
       "        0.16168995,  0.03890977, -0.09837142,  0.92290384,  0.14388992,\n",
       "       -0.4972172 ,  0.37950903, -0.41200647,  0.25478968,  1.129922  ,\n",
       "        0.815722  ,  0.52632904, -0.2614075 ,  0.84532654, -0.4435664 ,\n",
       "       -0.26919207,  0.7159103 , -0.5739213 ,  1.0944939 , -2.0482116 ,\n",
       "       -0.11553156,  1.0576705 , -0.7669597 , -0.31153575, -0.49452546,\n",
       "        0.19986239,  0.66395336, -1.6761221 , -0.06975538, -1.3086923 ,\n",
       "        1.1431413 , -0.6607354 , -0.36455515,  0.4136709 ,  1.0706252 ,\n",
       "       -0.37779188, -0.53597265,  0.04108819,  0.5314494 ,  0.06760428,\n",
       "        0.8753833 ,  0.90087205,  0.14080824,  0.4715019 , -0.36887506,\n",
       "        1.7931494 ,  0.20459487, -0.21514861, -0.26236662, -0.39328504,\n",
       "       -0.39177725,  0.4820586 ,  0.51138085, -0.2590835 ,  0.11330552,\n",
       "       -0.314531  ,  1.4486649 ,  0.16604248,  0.22433329, -0.574803  ,\n",
       "       -0.0051391 , -0.4196363 ,  0.5259141 , -0.3490527 , -0.09950934,\n",
       "        0.08344483, -0.05918086,  1.0208448 , -0.345693  ,  0.37668777,\n",
       "        0.67100513, -0.38836256, -0.13065769, -0.20492761,  0.30899113,\n",
       "        0.33728582, -0.07590161,  0.81057996, -0.20530769, -0.95805186,\n",
       "        0.6671428 , -1.916753  ,  0.50195086,  0.7249015 , -0.44786292,\n",
       "       -0.70175236, -0.3064636 , -0.03190079, -0.11381657, -0.13930681,\n",
       "       -0.48807326,  0.5263308 ,  0.7156094 , -0.15951708, -0.66476005],\n",
       "      dtype=float32)"
      ]
     },
     "execution_count": 22,
     "metadata": {},
     "output_type": "execute_result"
    }
   ],
   "source": [
    "zimin_vector"
   ]
  },
  {
   "cell_type": "code",
   "execution_count": 23,
   "metadata": {},
   "outputs": [
    {
     "data": {
      "text/plain": [
       "array([ 0.00182805,  0.00450396,  0.00998989, -0.00840145, -0.00054473,\n",
       "        0.01066227,  0.02026847,  0.01008725,  0.0146655 ,  0.01169526,\n",
       "       -0.00020116,  0.0092071 , -0.01440091,  0.01512539,  0.03028351,\n",
       "        0.01796054,  0.01537784,  0.00763472,  0.01176415,  0.00041669,\n",
       "       -0.00390625,  0.02426601, -0.00586084,  0.0137658 , -0.02451584,\n",
       "        0.00887615,  0.01845751, -0.01512908,  0.00191885,  0.0002521 ,\n",
       "        0.00087869,  0.0010795 , -0.00538965,  0.0216505 , -0.00427907,\n",
       "        0.01012019,  0.00091923, -0.00222314,  0.01180564,  0.02772816,\n",
       "        0.00411432,  0.01317146,  0.01935382,  0.00437756,  0.00980109,\n",
       "        0.03307263,  0.00556182,  0.01378315,  0.01926366,  0.02692605,\n",
       "        0.01513575,  0.01095975,  0.01378533,  0.00504817,  0.01338782,\n",
       "        0.00598811,  0.02288511,  0.01531195,  0.00901233,  0.00129015,\n",
       "        0.01111713,  0.01816067,  0.01220899,  0.00445757, -0.00545774,\n",
       "       -0.01334207,  0.00641595,  0.00124904,  0.00148024,  0.00730298,\n",
       "       -0.00102179,  0.0131352 ,  0.02591252,  0.00028209, -0.00084882,\n",
       "        0.01359353,  0.01047855,  0.00038512, -0.00963242,  0.00094827,\n",
       "        0.00261386, -0.00756244,  0.01394777, -0.00968941, -0.00614686,\n",
       "        0.01993307, -0.01014044,  0.01571424,  0.01378531, -0.00605057,\n",
       "       -0.00561407, -0.00500245,  0.0080926 , -0.00426432,  0.0142359 ,\n",
       "       -0.00174792,  0.01441849,  0.01802345,  0.00925765, -0.0119918 ],\n",
       "      dtype=float32)"
      ]
     },
     "execution_count": 23,
     "metadata": {},
     "output_type": "execute_result"
    }
   ],
   "source": [
    "black_eyed_peas_vector"
   ]
  },
  {
   "cell_type": "code",
   "execution_count": 24,
   "metadata": {},
   "outputs": [
    {
     "data": {
      "text/plain": [
       "0.50438213"
      ]
     },
     "execution_count": 24,
     "metadata": {},
     "output_type": "execute_result"
    }
   ],
   "source": [
    "# zimin과 black_eyed_peas를 내적하는 코드\n",
    "np.dot(zimin_vector, black_eyed_peas_vector)"
   ]
  },
  {
   "cell_type": "code",
   "execution_count": 25,
   "metadata": {},
   "outputs": [
    {
     "data": {
      "text/plain": [
       "0.29112816"
      ]
     },
     "execution_count": 25,
     "metadata": {},
     "output_type": "execute_result"
    }
   ],
   "source": [
    "queen = artist_to_idx['queen']\n",
    "queen_vector = als_model.item_factors[queen]\n",
    "np.dot(zimin_vector, queen_vector)"
   ]
  },
  {
   "cell_type": "code",
   "execution_count": 26,
   "metadata": {},
   "outputs": [
    {
     "data": {
      "text/plain": [
       "[(62, 0.12450565),\n",
       " (277, 0.12259773),\n",
       " (28, 0.12190977),\n",
       " (5, 0.121277384),\n",
       " (418, 0.12072222),\n",
       " (217, 0.12064101),\n",
       " (490, 0.120157756),\n",
       " (473, 0.11989333),\n",
       " (247, 0.119779155),\n",
       " (694, 0.11823894),\n",
       " (1018, 0.1182109),\n",
       " (910, 0.11753713),\n",
       " (268, 0.11683212),\n",
       " (55, 0.116430365),\n",
       " (75, 0.11631155)]"
      ]
     },
     "execution_count": 26,
     "metadata": {},
     "output_type": "execute_result"
    }
   ],
   "source": [
    "favorite_artist = 'coldplay'\n",
    "artist_id = artist_to_idx[favorite_artist]\n",
    "similar_artist = als_model.similar_items(artist_id, N=15)\n",
    "similar_artist"
   ]
  },
  {
   "cell_type": "code",
   "execution_count": 27,
   "metadata": {},
   "outputs": [
    {
     "data": {
      "text/plain": [
       "['coldplay',\n",
       " 'muse',\n",
       " 'the killers',\n",
       " 'red hot chili peppers',\n",
       " 'u2',\n",
       " 'radiohead',\n",
       " 'oasis',\n",
       " 'placebo',\n",
       " 'the beatles',\n",
       " 'foo fighters',\n",
       " 'the smashing pumpkins',\n",
       " 'nirvana',\n",
       " 'pink floyd',\n",
       " 'arctic monkeys',\n",
       " 'queen']"
      ]
     },
     "execution_count": 27,
     "metadata": {},
     "output_type": "execute_result"
    }
   ],
   "source": [
    "#artist_to_idx 를 뒤집어, index로부터 artist 이름을 얻는 dict를 생성합니다. \n",
    "idx_to_artist = {v:k for k,v in artist_to_idx.items()}\n",
    "[idx_to_artist[i[0]] for i in similar_artist]"
   ]
  },
  {
   "cell_type": "code",
   "execution_count": 28,
   "metadata": {},
   "outputs": [
    {
     "name": "stdout",
     "output_type": "stream",
     "text": [
      "슝=3\n"
     ]
    }
   ],
   "source": [
    "def get_similar_artist(artist_name: str):\n",
    "    artist_id = artist_to_idx[artist_name]\n",
    "    similar_artist = als_model.similar_items(artist_id)\n",
    "    similar_artist = [idx_to_artist[i[0]] for i in similar_artist]\n",
    "    return similar_artist\n",
    "\n",
    "print(\"슝=3\")"
   ]
  },
  {
   "cell_type": "code",
   "execution_count": 29,
   "metadata": {},
   "outputs": [
    {
     "data": {
      "text/plain": [
       "['2pac',\n",
       " 'dr. dre',\n",
       " 'notorious b.i.g.',\n",
       " 'the game',\n",
       " 'nas',\n",
       " 'jay-z',\n",
       " 'bone thugs-n-harmony',\n",
       " 'ice cube',\n",
       " 'dmx',\n",
       " 'ludacris']"
      ]
     },
     "execution_count": 29,
     "metadata": {},
     "output_type": "execute_result"
    }
   ],
   "source": [
    "get_similar_artist('2pac')"
   ]
  },
  {
   "cell_type": "code",
   "execution_count": 30,
   "metadata": {},
   "outputs": [
    {
     "data": {
      "text/plain": [
       "['lady gaga',\n",
       " 'britney spears',\n",
       " 'rihanna',\n",
       " 'katy perry',\n",
       " 'the pussycat dolls',\n",
       " 'beyoncé',\n",
       " 'christina aguilera',\n",
       " 'leona lewis',\n",
       " 'kelly clarkson',\n",
       " 'nelly furtado']"
      ]
     },
     "execution_count": 30,
     "metadata": {},
     "output_type": "execute_result"
    }
   ],
   "source": [
    "get_similar_artist('lady gaga')"
   ]
  },
  {
   "cell_type": "code",
   "execution_count": 31,
   "metadata": {},
   "outputs": [
    {
     "data": {
      "text/plain": [
       "[(350, 0.45719615),\n",
       " (369, 0.449272),\n",
       " (550, 0.44163483),\n",
       " (564, 0.42739332),\n",
       " (1800, 0.42307636),\n",
       " (274, 0.4164608),\n",
       " (354, 0.40893027),\n",
       " (355, 0.40342385),\n",
       " (391, 0.4023199),\n",
       " (627, 0.3972516),\n",
       " (2249, 0.38722518),\n",
       " (621, 0.38645706),\n",
       " (409, 0.38593996),\n",
       " (24, 0.38037574),\n",
       " (5555, 0.38031107),\n",
       " (724, 0.36003572),\n",
       " (434, 0.35657132),\n",
       " (1777, 0.35612124),\n",
       " (358, 0.3509488),\n",
       " (2902, 0.3488781)]"
      ]
     },
     "execution_count": 31,
     "metadata": {},
     "output_type": "execute_result"
    }
   ],
   "source": [
    "user = user_to_idx['zimin']\n",
    "# recommend에서는 user*item CSR Matrix를 받습니다.\n",
    "artist_recommended = als_model.recommend(user, csr_data, N=20, filter_already_liked_items=True)\n",
    "artist_recommended"
   ]
  },
  {
   "cell_type": "code",
   "execution_count": 32,
   "metadata": {},
   "outputs": [
    {
     "data": {
      "text/plain": [
       "['rihanna',\n",
       " 'justin timberlake',\n",
       " 'britney spears',\n",
       " 'kanye west',\n",
       " 'lady gaga',\n",
       " 'michael jackson',\n",
       " 'nelly furtado',\n",
       " 'madonna',\n",
       " 'christina aguilera',\n",
       " 'maroon 5',\n",
       " 'katy perry',\n",
       " 'alicia keys',\n",
       " 'amy winehouse',\n",
       " 'jack johnson',\n",
       " 'timbaland',\n",
       " 'lily allen',\n",
       " 'eminem',\n",
       " 'mariah carey',\n",
       " 'kelly clarkson',\n",
       " 'james blunt']"
      ]
     },
     "execution_count": 32,
     "metadata": {},
     "output_type": "execute_result"
    }
   ],
   "source": [
    "[idx_to_artist[i[0]] for i in artist_recommended]"
   ]
  },
  {
   "cell_type": "code",
   "execution_count": 33,
   "metadata": {},
   "outputs": [],
   "source": [
    "rihanna = artist_to_idx['rihanna']\n",
    "explain = als_model.explain(user, csr_data, itemid=rihanna)"
   ]
  },
  {
   "cell_type": "code",
   "execution_count": 34,
   "metadata": {},
   "outputs": [
    {
     "data": {
      "text/plain": [
       "[('beyoncé', 0.22531893618731408),\n",
       " ('black eyed peas', 0.1524839821962369),\n",
       " ('coldplay', 0.043520962609143676),\n",
       " ('jason mraz', 0.03788915454078296),\n",
       " ('maroon5', -0.00014810317150170088)]"
      ]
     },
     "execution_count": 34,
     "metadata": {},
     "output_type": "execute_result"
    }
   ],
   "source": [
    "[(idx_to_artist[i[0]], i[1]) for i in explain[1]]"
   ]
  },
  {
   "cell_type": "code",
   "execution_count": null,
   "metadata": {},
   "outputs": [],
   "source": []
  }
 ],
 "metadata": {
  "kernelspec": {
   "display_name": "aiffel",
   "language": "python",
   "name": "aiffel"
  },
  "language_info": {
   "codemirror_mode": {
    "name": "ipython",
    "version": 3
   },
   "file_extension": ".py",
   "mimetype": "text/x-python",
   "name": "python",
   "nbconvert_exporter": "python",
   "pygments_lexer": "ipython3",
   "version": "3.8.3"
  }
 },
 "nbformat": 4,
 "nbformat_minor": 4
}
