{
 "cells": [
  {
   "cell_type": "code",
   "execution_count": 19,
   "metadata": {},
   "outputs": [],
   "source": [
    "import numpy as np\n",
    "import matplotlib.pyplot as plt\n",
    "import seaborn as sns\n",
    "import pandas as pd\n",
    "from sklearn.datasets import load_diabetes\n",
    "from sklearn.model_selection import train_test_split"
   ]
  },
  {
   "cell_type": "code",
   "execution_count": 20,
   "metadata": {},
   "outputs": [],
   "source": [
    "db = load_diabetes()\n",
    "df_X=db.data\n",
    "df_y=db.target"
   ]
  },
  {
   "cell_type": "code",
   "execution_count": 21,
   "metadata": {},
   "outputs": [],
   "source": [
    "na_df_X=np.array(df_X)\n",
    "na_df_y=np.array(df_y)"
   ]
  },
  {
   "cell_type": "code",
   "execution_count": 22,
   "metadata": {},
   "outputs": [],
   "source": [
    "df_X= pd.DataFrame(db.data, columns = db.feature_names)"
   ]
  },
  {
   "cell_type": "code",
   "execution_count": 23,
   "metadata": {
    "scrolled": true
   },
   "outputs": [
    {
     "name": "stdout",
     "output_type": "stream",
     "text": [
      "(442, 3)\n",
      "(442,)\n"
     ]
    }
   ],
   "source": [
    "del df_X[\"sex\"]\n",
    "del df_X[\"s1\"]\n",
    "del df_X[\"s2\"]\n",
    "del df_X[\"s3\"]\n",
    "del df_X[\"s4\"]\n",
    "del df_X[\"s5\"]\n",
    "del df_X[\"s6\"]\n",
    "df_X=np.array(df_X)\n",
    "df_y=np.array(df_y)\n",
    "print(np.shape(df_X))\n",
    "print(np.shape(df_y))"
   ]
  },
  {
   "cell_type": "code",
   "execution_count": 24,
   "metadata": {},
   "outputs": [],
   "source": [
    "train_X,test_X,train_Y,test_Y = train_test_split(na_df_X,\n",
    "                                                na_df_y,\n",
    "                                                test_size=0.2,\n",
    "                                                random_state=10)"
   ]
  },
  {
   "cell_type": "code",
   "execution_count": 25,
   "metadata": {},
   "outputs": [
    {
     "name": "stdout",
     "output_type": "stream",
     "text": [
      "3\n"
     ]
    }
   ],
   "source": [
    "FL=np.shape(df_X)[1]\n",
    "print(FL)\n",
    "#W,B\n",
    "W=np.random.rand(FL)\n",
    "b=np.random.rand()"
   ]
  },
  {
   "cell_type": "code",
   "execution_count": 26,
   "metadata": {},
   "outputs": [],
   "source": [
    "#model\n",
    "def model(X,W,b):\n",
    "    pred=0\n",
    "    for i in range(FL):\n",
    "        pred += X[:,i]*W[i]\n",
    "    pred+=b\n",
    "    return pred"
   ]
  },
  {
   "cell_type": "code",
   "execution_count": 27,
   "metadata": {},
   "outputs": [
    {
     "data": {
      "text/plain": [
       "(353,)"
      ]
     },
     "execution_count": 27,
     "metadata": {},
     "output_type": "execute_result"
    }
   ],
   "source": [
    "np.shape(model(train_X,W,b))"
   ]
  },
  {
   "cell_type": "code",
   "execution_count": 28,
   "metadata": {},
   "outputs": [],
   "source": [
    "#MSE\n",
    "def MSE(a,b):\n",
    "    mse=((a-b)**2).mean()\n",
    "    return mse\n",
    "\n",
    "def loss(X,W,b,y):\n",
    "    pred=model(X,W,b)\n",
    "    L= MSE(pred,y)\n",
    "    return L"
   ]
  },
  {
   "cell_type": "code",
   "execution_count": 29,
   "metadata": {},
   "outputs": [],
   "source": [
    "#gradient\n",
    "def gradient(X,W,b,y):\n",
    "    N=len(y)\n",
    "    \n",
    "    y_pred=model(X,W,b)\n",
    "    \n",
    "    dw=1/N*2*X.T.dot(y_pred-y)\n",
    "    db=2*(y_pred-y).mean()\n",
    "    \n",
    "    return dw,db"
   ]
  },
  {
   "cell_type": "code",
   "execution_count": 30,
   "metadata": {},
   "outputs": [],
   "source": [
    "#hyper parameter\n",
    "learning_rate=0.001"
   ]
  },
  {
   "cell_type": "code",
   "execution_count": 39,
   "metadata": {},
   "outputs": [],
   "source": [
    "#train\n",
    "def train_MSE(X,Y,w,b):\n",
    "    \n",
    "    losses=[]\n",
    "    \n",
    "    for i in range(1,1001):\n",
    "        dw,db= gradient(X,w,b,Y)\n",
    "        print(np.shape(dw),\n",
    "              np.shape(db),\n",
    "              np.shape(X),\n",
    "              np.shape(w),\n",
    "              np.shape(b),\n",
    "              np.shape(Y))\n",
    "        w-=learning_rate*dw\n",
    "        b-=learning_rate*db\n",
    "        L=loss(X,w,b,Y)\n",
    "        losses.append(L)\n",
    "        if i%10==0:\n",
    "            print('iteration %d: loss %0.4f' %(i,L))\n",
    "            \n",
    "def train_RMSE(X,Y,w,b):\n",
    "    \n",
    "    losses=[]\n",
    "    \n",
    "    for i in range(1,1001):\n",
    "        dw,db= gradient(X,w,b,Y)\n",
    "        w-=learning_rate*dw\n",
    "        b-=learning_rate*db\n",
    "        L=loss(X,w,b,Y)\n",
    "        L=L**0.5\n",
    "        losses.append(L)\n",
    "        if i%10==0:\n",
    "            print('iteration %d: loss %0.4f' %(i,L))"
   ]
  },
  {
   "cell_type": "code",
   "execution_count": 40,
   "metadata": {
    "scrolled": true
   },
   "outputs": [
    {
     "name": "stdout",
     "output_type": "stream",
     "text": [
      "(10,) () (353, 10) (3,) () (353,)\n"
     ]
    },
    {
     "ename": "ValueError",
     "evalue": "operands could not be broadcast together with shapes (3,) (10,) (3,) ",
     "output_type": "error",
     "traceback": [
      "\u001b[0;31m---------------------------------------------------------------------------\u001b[0m",
      "\u001b[0;31mValueError\u001b[0m                                Traceback (most recent call last)",
      "\u001b[0;32m<ipython-input-40-f8e1e24e65e0>\u001b[0m in \u001b[0;36m<module>\u001b[0;34m\u001b[0m\n\u001b[0;32m----> 1\u001b[0;31m \u001b[0mtrain_MSE\u001b[0m\u001b[0;34m(\u001b[0m\u001b[0mtrain_X\u001b[0m\u001b[0;34m,\u001b[0m\u001b[0mtrain_Y\u001b[0m\u001b[0;34m,\u001b[0m\u001b[0mW\u001b[0m\u001b[0;34m,\u001b[0m\u001b[0mb\u001b[0m\u001b[0;34m)\u001b[0m\u001b[0;34m\u001b[0m\u001b[0;34m\u001b[0m\u001b[0m\n\u001b[0m\u001b[1;32m      2\u001b[0m \u001b[0mprint\u001b[0m\u001b[0;34m(\u001b[0m\u001b[0;34m' '\u001b[0m\u001b[0;34m)\u001b[0m\u001b[0;34m\u001b[0m\u001b[0;34m\u001b[0m\u001b[0m\n\u001b[1;32m      3\u001b[0m \u001b[0mtrain_RMSE\u001b[0m\u001b[0;34m(\u001b[0m\u001b[0mtrain_X\u001b[0m\u001b[0;34m,\u001b[0m\u001b[0mtrain_Y\u001b[0m\u001b[0;34m,\u001b[0m\u001b[0mW\u001b[0m\u001b[0;34m,\u001b[0m\u001b[0mb\u001b[0m\u001b[0;34m)\u001b[0m\u001b[0;34m\u001b[0m\u001b[0;34m\u001b[0m\u001b[0m\n",
      "\u001b[0;32m<ipython-input-39-551621907295>\u001b[0m in \u001b[0;36mtrain_MSE\u001b[0;34m(X, Y, w, b)\u001b[0m\n\u001b[1;32m     12\u001b[0m               \u001b[0mnp\u001b[0m\u001b[0;34m.\u001b[0m\u001b[0mshape\u001b[0m\u001b[0;34m(\u001b[0m\u001b[0mb\u001b[0m\u001b[0;34m)\u001b[0m\u001b[0;34m,\u001b[0m\u001b[0;34m\u001b[0m\u001b[0;34m\u001b[0m\u001b[0m\n\u001b[1;32m     13\u001b[0m               np.shape(Y))\n\u001b[0;32m---> 14\u001b[0;31m         \u001b[0mw\u001b[0m\u001b[0;34m-=\u001b[0m\u001b[0mlearning_rate\u001b[0m\u001b[0;34m*\u001b[0m\u001b[0mdw\u001b[0m\u001b[0;34m\u001b[0m\u001b[0;34m\u001b[0m\u001b[0m\n\u001b[0m\u001b[1;32m     15\u001b[0m         \u001b[0mb\u001b[0m\u001b[0;34m-=\u001b[0m\u001b[0mlearning_rate\u001b[0m\u001b[0;34m*\u001b[0m\u001b[0mdb\u001b[0m\u001b[0;34m\u001b[0m\u001b[0;34m\u001b[0m\u001b[0m\n\u001b[1;32m     16\u001b[0m         \u001b[0mL\u001b[0m\u001b[0;34m=\u001b[0m\u001b[0mloss\u001b[0m\u001b[0;34m(\u001b[0m\u001b[0mX\u001b[0m\u001b[0;34m,\u001b[0m\u001b[0mw\u001b[0m\u001b[0;34m,\u001b[0m\u001b[0mb\u001b[0m\u001b[0;34m,\u001b[0m\u001b[0mY\u001b[0m\u001b[0;34m)\u001b[0m\u001b[0;34m\u001b[0m\u001b[0;34m\u001b[0m\u001b[0m\n",
      "\u001b[0;31mValueError\u001b[0m: operands could not be broadcast together with shapes (3,) (10,) (3,) "
     ]
    }
   ],
   "source": [
    "train_MSE(train_X,train_Y,W,b)\n",
    "print(' ')\n",
    "train_RMSE(train_X,train_Y,W,b)"
   ]
  },
  {
   "cell_type": "code",
   "execution_count": 41,
   "metadata": {},
   "outputs": [
    {
     "data": {
      "text/plain": [
       "28453.34809197466"
      ]
     },
     "execution_count": 41,
     "metadata": {},
     "output_type": "execute_result"
    }
   ],
   "source": [
    "#evaluate\n",
    "prediction = model(test_X,W,b)\n",
    "mse = loss(test_X,W,b,test_Y)\n",
    "mse"
   ]
  },
  {
   "cell_type": "code",
   "execution_count": null,
   "metadata": {},
   "outputs": [],
   "source": [
    "#visualize\n",
    "plt.scatter(test_X[:,0],test_Y)\n",
    "plt.scatter(test_X[:,0],prediction)\n",
    "plt.show()"
   ]
  },
  {
   "cell_type": "code",
   "execution_count": null,
   "metadata": {},
   "outputs": [],
   "source": []
  }
 ],
 "metadata": {
  "kernelspec": {
   "display_name": "aiffel",
   "language": "python",
   "name": "aiffel"
  },
  "language_info": {
   "codemirror_mode": {
    "name": "ipython",
    "version": 3
   },
   "file_extension": ".py",
   "mimetype": "text/x-python",
   "name": "python",
   "nbconvert_exporter": "python",
   "pygments_lexer": "ipython3",
   "version": "3.8.3"
  }
 },
 "nbformat": 4,
 "nbformat_minor": 4
}
